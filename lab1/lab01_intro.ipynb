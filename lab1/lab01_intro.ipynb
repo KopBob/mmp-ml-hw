{
 "cells": [
  {
   "cell_type": "markdown",
   "metadata": {},
   "source": [
    "# Лабораторная работа 1. Язык Python, основные библиотеки для анализа данных."
   ]
  },
  {
   "cell_type": "markdown",
   "metadata": {},
   "source": [
    "ФИО: Копин Борис Александрович\n",
    "\n",
    "Группа: "
   ]
  },
  {
   "cell_type": "code",
   "execution_count": 1,
   "metadata": {
    "collapsed": true
   },
   "outputs": [],
   "source": [
    "import numpy as np\n",
    "import pandas as pd\n",
    "from functools import reduce"
   ]
  },
  {
   "cell_type": "markdown",
   "metadata": {},
   "source": [
    "## Часть 1: Python"
   ]
  },
  {
   "cell_type": "markdown",
   "metadata": {},
   "source": [
    "#### 1. Напишите код, который сформирует список всех натуральных чисел, не превосходящих 100, которые делятся на 7 и не делятся на 5. Нельзя использовать циклы — выполните это задание с помощью list comprehension."
   ]
  },
  {
   "cell_type": "code",
   "execution_count": 2,
   "metadata": {
    "collapsed": false
   },
   "outputs": [
    {
     "data": {
      "text/plain": [
       "[7, 14, 21, 28, 42, 49, 56, 63, 77, 84, 91, 98]"
      ]
     },
     "execution_count": 2,
     "metadata": {},
     "output_type": "execute_result"
    }
   ],
   "source": [
    "[x for x in range(1, 101) if (x%7==0) and (x%5!=0)]"
   ]
  },
  {
   "cell_type": "markdown",
   "metadata": {},
   "source": [
    "#### 2. Напишите функцию `sort_tokens(s)`, которая принимает на вход строку, разделяет ее на токены по запятым, сортирует токены с помощью функции `sorted()` и снова соединяет их в одну строку через запятые. Например, для строки `u\"ночь,фонарь,улица\"` функция должна выдать `u\"ночь,улица,фонарь\"`. Придумайте несколько входных строк и протестируйте функцию на них."
   ]
  },
  {
   "cell_type": "markdown",
   "metadata": {},
   "source": [
    "Обратите внимание, что склеить строки можно с помощью конструкции `'x'.join(...)`. Например:"
   ]
  },
  {
   "cell_type": "code",
   "execution_count": 3,
   "metadata": {
    "collapsed": false
   },
   "outputs": [
    {
     "data": {
      "text/plain": [
       "'i! am! very! excited! :-)'"
      ]
     },
     "execution_count": 3,
     "metadata": {},
     "output_type": "execute_result"
    }
   ],
   "source": [
    "'! '.join(['i', 'am', 'very', 'excited', ':-)'])"
   ]
  },
  {
   "cell_type": "code",
   "execution_count": 4,
   "metadata": {
    "collapsed": false
   },
   "outputs": [
    {
     "name": "stdout",
     "output_type": "stream",
     "text": [
      "ночь,улица,фонарь\n"
     ]
    }
   ],
   "source": [
    "def sort_tokens(s):\n",
    "    words = s.split(',')\n",
    "    words = sorted(words)\n",
    "    return ','.join(words)\n",
    "\n",
    "str = u\"ночь,фонарь,улица\"\n",
    "print(sort_tokens(str))"
   ]
  },
  {
   "cell_type": "markdown",
   "metadata": {},
   "source": [
    "#### 3. Напишите функцию `remove_duplicates(a)`, которая принимает на вход список и возвращает его же, но без дубликатов и в отсортированном виде. Например, для списка `[u\"ночь\", u\"улица\", u\"фонарь\", u\"аптека\", u\"аптека\", u\"улица\", u\"фонарь\"]` результат должен быть `[u\"аптека\", u\"ночь\", u\"улица\", u\"фонарь\", ]`."
   ]
  },
  {
   "cell_type": "markdown",
   "metadata": {},
   "source": [
    "Подсказка: обратите внимание на структуру `set`!"
   ]
  },
  {
   "cell_type": "code",
   "execution_count": 5,
   "metadata": {
    "collapsed": false
   },
   "outputs": [
    {
     "name": "stdout",
     "output_type": "stream",
     "text": [
      "{'ночь', 'улица', 'аптека', 'фонарь'}\n"
     ]
    }
   ],
   "source": [
    "def remove_duplicates(a):\n",
    "    return set(a)\n",
    "array = [u\"ночь\", u\"улица\", u\"фонарь\", u\"аптека\", u\"аптека\", u\"улица\", u\"фонарь\"]\n",
    "print(remove_duplicates(array))"
   ]
  },
  {
   "cell_type": "markdown",
   "metadata": {},
   "source": [
    "#### 4. Напишите функцию `word_counts(texts)`, которая принимает на вход список строк, и печатает пары (слово, число вхождений). Считайте, что слова в текстах могут быть разделены только пробелами. Например, для входа `[u'ночь улица фонарь аптека', u'аптека улица фонарь']` должно быть напечатано\n",
    ">аптека 2\n",
    "\n",
    ">улица 2\n",
    "\n",
    ">фонарь 2\n",
    "\n",
    ">ночь 1"
   ]
  },
  {
   "cell_type": "markdown",
   "metadata": {},
   "source": [
    "Подсказки:\n",
    "\n",
    "Чтобы разбить каждый из текстов на слова, воспользуйтесь функцией `map`, которая применяет заданную функцию к каждому элементу списка. Например, если бы нужно было каждый из текстов привести к нижнему регистру, то команда выглядела бы так:"
   ]
  },
  {
   "cell_type": "code",
   "execution_count": 6,
   "metadata": {
    "collapsed": false
   },
   "outputs": [
    {
     "data": {
      "text/plain": [
       "['abcdefg', 'hijkl']"
      ]
     },
     "execution_count": 6,
     "metadata": {},
     "output_type": "execute_result"
    }
   ],
   "source": [
    "list(map(lambda x: x.lower(), [\"abCDefg\", \"HIjkL\"]))"
   ]
  },
  {
   "cell_type": "markdown",
   "metadata": {},
   "source": [
    "После первого шага вы получите список, состоящий из списков слов. Чтобы объединить их в один список слов, воспользуйтесь функцией `reduce`. Например, просуммировать числа из списка с ее помощью можно так:\n",
    "\n"
   ]
  },
  {
   "cell_type": "code",
   "execution_count": 7,
   "metadata": {
    "collapsed": false
   },
   "outputs": [
    {
     "data": {
      "text/plain": [
       "15"
      ]
     },
     "execution_count": 7,
     "metadata": {},
     "output_type": "execute_result"
    }
   ],
   "source": [
    "reduce(lambda x, y: x + y, [1, 2, 3, 4, 5])"
   ]
  },
  {
   "cell_type": "markdown",
   "metadata": {},
   "source": [
    "Для подсчета количества вхождений слов воспользуйтесь структурой `defaultdict` из модуля `collections`. В отличие от обычного `dict`, она не генерирует ошибку при обращении к несуществущему ключу, а создает новую запись, инициализируемую нулевым значением. Например:"
   ]
  },
  {
   "cell_type": "code",
   "execution_count": 8,
   "metadata": {
    "collapsed": false
   },
   "outputs": [
    {
     "name": "stdout",
     "output_type": "stream",
     "text": [
      "defaultdict(<class 'int'>, {})\n",
      "defaultdict(<class 'int'>, {'abc': 1})\n",
      "defaultdict(<class 'int'>, {'xxx': 0, 'abc': 1})\n"
     ]
    }
   ],
   "source": [
    "from collections import defaultdict\n",
    "d = defaultdict(int)\n",
    "print(d)\n",
    "d['abc'] += 1\n",
    "print(d)\n",
    "d['xxx']\n",
    "print(d)"
   ]
  },
  {
   "cell_type": "code",
   "execution_count": 9,
   "metadata": {
    "collapsed": false
   },
   "outputs": [
    {
     "name": "stdout",
     "output_type": "stream",
     "text": [
      "defaultdict(<class 'int'>, {'ночь': 1, 'аптека': 2, 'фонарь': 2, 'улица': 2})\n"
     ]
    }
   ],
   "source": [
    "def word_counts(texts):\n",
    "    bag = defaultdict(int)\n",
    "    \n",
    "    splited = map(lambda x: x.split(' '), texts)\n",
    "    reduced = reduce(lambda x, y: x + y, splited)\n",
    "    \n",
    "    for word in reduced:\n",
    "        bag[word]+=1\n",
    "        \n",
    "    return bag\n",
    "\n",
    "str = [u'ночь улица фонарь аптека', u'аптека улица фонарь']\n",
    "print(word_counts(str))"
   ]
  },
  {
   "cell_type": "markdown",
   "metadata": {},
   "source": [
    "#### 5. (бонусное задание) Скачайте английский перевод \"Преступления и наказания\". Найдите 20 самых популярных слов и 20 слов, которые встречаются только один раз."
   ]
  },
  {
   "cell_type": "markdown",
   "metadata": {},
   "source": [
    "Приведите текст к нижнему регистру. Разделите текст на слова, считая разделителями все, кроме букв. Обратите внимание на функцию `split` из модуля `re`.\n",
    "\n",
    "Не забудьте удалить пустые слова:\n",
    "```\n",
    "words = filter(lambda x: len(x) > 0, words)\n",
    "```"
   ]
  },
  {
   "cell_type": "code",
   "execution_count": 10,
   "metadata": {
    "collapsed": false
   },
   "outputs": [],
   "source": [
    "from urllib.request import urlopen\n",
    "url = \"http://www.gutenberg.org/files/2554/2554.txt\"\n",
    "response = urlopen(url)\n",
    "raw_text = response.read().decode('utf8')"
   ]
  },
  {
   "cell_type": "code",
   "execution_count": 11,
   "metadata": {
    "collapsed": false
   },
   "outputs": [
    {
     "data": {
      "text/plain": [
       "'r five\\r\\nchildren in only two rooms. The father and mother spent their evenings\\r\\nin reading aloud to '"
      ]
     },
     "execution_count": 11,
     "metadata": {},
     "output_type": "execute_result"
    }
   ],
   "source": [
    "raw_text[1000:1100]"
   ]
  },
  {
   "cell_type": "code",
   "execution_count": 12,
   "metadata": {
    "collapsed": false
   },
   "outputs": [
    {
     "name": "stdout",
     "output_type": "stream",
     "text": [
      "[('the', 7995), ('and', 7042), ('to', 5493), ('he', 4892), ('a', 4665), ('i', 4402), ('you', 4114), ('of', 3926), ('it', 3460), ('that', 3294), ('in', 3250), ('was', 2826), ('his', 2114), ('at', 2082), ('her', 1828), ('but', 1801), ('not', 1774), ('s', 1765), ('with', 1757), ('she', 1692)]\n",
      "[('crudest', 1), ('daring_', 1), ('clashed', 1), ('bitten', 1), ('scrubs', 1), ('vindictively', 1), ('tiniest', 1), ('quenching', 1), ('slay', 1), ('gulps', 1), ('mouthed', 1), ('fawning', 1), ('lagging', 1), ('afresh', 1), ('modest', 1), ('experiments', 1), ('post_', 1), ('impertinent', 1), ('idea_', 1), ('nou', 1)]\n"
     ]
    }
   ],
   "source": [
    "import string\n",
    "import re\n",
    "import operator\n",
    "\n",
    "raw_text = raw_text.lower()\n",
    "delimiters = set(raw_text) - set(string.ascii_lowercase)\n",
    "\n",
    "words = re.split('\\W+', raw_text)\n",
    "words = filter(lambda x: len(x) > 0, words)\n",
    "\n",
    "counted_words = word_counts([\" \".join(words)])\n",
    "sorted_words = sorted(counted_words.items(), key=operator.itemgetter(1), reverse=True)\n",
    "\n",
    "twenty_of_most_popular_words = sorted_words[:20]\n",
    "twenty_of_once_occured_words = [x for x in sorted_words if x[1] == 1][:20]\n",
    "\n",
    "print(twenty_of_most_popular_words)\n",
    "print(twenty_of_once_occured_words)"
   ]
  },
  {
   "cell_type": "markdown",
   "metadata": {},
   "source": [
    "## Часть 2: NumPy и SciPy"
   ]
  },
  {
   "cell_type": "markdown",
   "metadata": {},
   "source": [
    "#### 1. Повторите 1000 раз следующий эксперимент: сгенерируйте две матрицы размера $10 \\times 10$ из стандартного нормального распределения, перемножьте их (как матрицы) и найдите максимальный элемент. Какое среднее значение по экспериментам у максимальных элементов? 95-процентная квантиль?"
   ]
  },
  {
   "cell_type": "markdown",
   "metadata": {},
   "source": [
    "Для вычисления квантили воспользуйтесь функцией `np.percentile`"
   ]
  },
  {
   "cell_type": "code",
   "execution_count": 13,
   "metadata": {
    "collapsed": false
   },
   "outputs": [
    {
     "name": "stdout",
     "output_type": "stream",
     "text": [
      "8.45467399642\n",
      "11.9031934523\n"
     ]
    }
   ],
   "source": [
    "iterations = 1000\n",
    "alpha = 95\n",
    "\n",
    "maximums = []\n",
    "for x in range(iterations):\n",
    "    matrix1 = np.random.standard_normal(size=(10,10))\n",
    "    matrix2 = np.random.standard_normal(size=(10,10))\n",
    "    maximums.append(np.max(np.dot(matrix1, matrix2)))\n",
    "    \n",
    "print(np.mean(maximums))\n",
    "print(np.percentile(maximums, alpha))"
   ]
  },
  {
   "cell_type": "markdown",
   "metadata": {},
   "source": [
    "#### 2. Сгенерируйте 1000 чисел из распределения Пуассона с параметром $\\lambda = 5$. Сформируйте массив, в котором в i-м элементе будет записано количество сгенерированных чисел, равных i."
   ]
  },
  {
   "cell_type": "markdown",
   "metadata": {},
   "source": [
    "Обратите внимание на функцию `np.bincount`"
   ]
  },
  {
   "cell_type": "code",
   "execution_count": 14,
   "metadata": {
    "collapsed": false
   },
   "outputs": [
    {
     "name": "stdout",
     "output_type": "stream",
     "text": [
      "[(0, 4), (1, 36), (2, 81), (3, 149), (4, 178), (5, 159), (6, 158), (7, 110), (8, 56), (9, 36), (10, 18), (11, 11), (12, 4)]\n",
      "[  4  36  81 149 178 159 158 110  56  36  18  11   4]\n"
     ]
    }
   ],
   "source": [
    "n = np.random.poisson(5, 1000)\n",
    "\n",
    "counts = np.bincount(n)\n",
    "indexes = np.nonzero(counts)[0]\n",
    "bag = list(zip(range(counts.size), counts))\n",
    "\n",
    "print(bag)\n",
    "print(counts)\n"
   ]
  },
  {
   "cell_type": "markdown",
   "metadata": {},
   "source": [
    "#### 3. Реализуйте функцию, которая принимает на вход numpy-массив целых чисел `a`, и генерирует массив, в котором число `i` встречается `a[i]` раз. Протестируйте на результате из прошлого задания."
   ]
  },
  {
   "cell_type": "markdown",
   "metadata": {},
   "source": [
    "Обратите внимание на функцию `np.repeat`"
   ]
  },
  {
   "cell_type": "code",
   "execution_count": 15,
   "metadata": {
    "collapsed": false
   },
   "outputs": [
    {
     "name": "stdout",
     "output_type": "stream",
     "text": [
      "[  4   4   4   4  36  36  36  36  36  36  36  36  36  36  36  36  36  36\n",
      "  36  36  36  36  36  36  36  36  36  36  36  36  36  36  36  36  36  36\n",
      "  36  36  36  36  81  81  81  81  81  81  81  81  81  81  81  81  81  81\n",
      "  81  81  81  81  81  81  81  81  81  81  81  81  81  81  81  81  81  81\n",
      "  81  81  81  81  81  81  81  81  81  81  81  81  81  81  81  81  81  81\n",
      "  81  81  81  81  81  81  81  81  81  81  81  81  81  81  81  81  81  81\n",
      "  81  81  81  81  81  81  81  81  81  81  81  81  81 149 149 149 149 149\n",
      " 149 149 149 149 149 149 149 149 149 149 149 149 149 149 149 149 149 149\n",
      " 149 149 149 149 149 149 149 149 149 149 149 149 149 149 149 149 149 149\n",
      " 149 149 149 149 149 149 149 149 149 149 149 149 149 149 149 149 149 149\n",
      " 149 149 149 149 149 149 149 149 149 149 149 149 149 149 149 149 149 149\n",
      " 149 149 149 149 149 149 149 149 149 149 149 149 149 149 149 149 149 149\n",
      " 149 149 149 149 149 149 149 149 149 149 149 149 149 149 149 149 149 149\n",
      " 149 149 149 149 149 149 149 149 149 149 149 149 149 149 149 149 149 149\n",
      " 149 149 149 149 149 149 149 149 149 149 149 149 149 149 149 149 149 149\n",
      " 178 178 178 178 178 178 178 178 178 178 178 178 178 178 178 178 178 178\n",
      " 178 178 178 178 178 178 178 178 178 178 178 178 178 178 178 178 178 178\n",
      " 178 178 178 178 178 178 178 178 178 178 178 178 178 178 178 178 178 178\n",
      " 178 178 178 178 178 178 178 178 178 178 178 178 178 178 178 178 178 178\n",
      " 178 178 178 178 178 178 178 178 178 178 178 178 178 178 178 178 178 178\n",
      " 178 178 178 178 178 178 178 178 178 178 178 178 178 178 178 178 178 178\n",
      " 178 178 178 178 178 178 178 178 178 178 178 178 178 178 178 178 178 178\n",
      " 178 178 178 178 178 178 178 178 178 178 178 178 178 178 178 178 178 178\n",
      " 178 178 178 178 178 178 178 178 178 178 178 178 178 178 178 178 178 178\n",
      " 178 178 178 178 178 178 178 178 178 178 178 178 178 178 178 178 159 159\n",
      " 159 159 159 159 159 159 159 159 159 159 159 159 159 159 159 159 159 159\n",
      " 159 159 159 159 159 159 159 159 159 159 159 159 159 159 159 159 159 159\n",
      " 159 159 159 159 159 159 159 159 159 159 159 159 159 159 159 159 159 159\n",
      " 159 159 159 159 159 159 159 159 159 159 159 159 159 159 159 159 159 159\n",
      " 159 159 159 159 159 159 159 159 159 159 159 159 159 159 159 159 159 159\n",
      " 159 159 159 159 159 159 159 159 159 159 159 159 159 159 159 159 159 159\n",
      " 159 159 159 159 159 159 159 159 159 159 159 159 159 159 159 159 159 159\n",
      " 159 159 159 159 159 159 159 159 159 159 159 159 159 159 159 159 159 159\n",
      " 159 159 159 159 159 159 159 159 159 159 159 159 159 158 158 158 158 158\n",
      " 158 158 158 158 158 158 158 158 158 158 158 158 158 158 158 158 158 158\n",
      " 158 158 158 158 158 158 158 158 158 158 158 158 158 158 158 158 158 158\n",
      " 158 158 158 158 158 158 158 158 158 158 158 158 158 158 158 158 158 158\n",
      " 158 158 158 158 158 158 158 158 158 158 158 158 158 158 158 158 158 158\n",
      " 158 158 158 158 158 158 158 158 158 158 158 158 158 158 158 158 158 158\n",
      " 158 158 158 158 158 158 158 158 158 158 158 158 158 158 158 158 158 158\n",
      " 158 158 158 158 158 158 158 158 158 158 158 158 158 158 158 158 158 158\n",
      " 158 158 158 158 158 158 158 158 158 158 158 158 158 158 158 158 158 158\n",
      " 158 158 158 158 158 158 158 158 158 110 110 110 110 110 110 110 110 110\n",
      " 110 110 110 110 110 110 110 110 110 110 110 110 110 110 110 110 110 110\n",
      " 110 110 110 110 110 110 110 110 110 110 110 110 110 110 110 110 110 110\n",
      " 110 110 110 110 110 110 110 110 110 110 110 110 110 110 110 110 110 110\n",
      " 110 110 110 110 110 110 110 110 110 110 110 110 110 110 110 110 110 110\n",
      " 110 110 110 110 110 110 110 110 110 110 110 110 110 110 110 110 110 110\n",
      " 110 110 110 110 110 110 110 110 110 110 110  56  56  56  56  56  56  56\n",
      "  56  56  56  56  56  56  56  56  56  56  56  56  56  56  56  56  56  56\n",
      "  56  56  56  56  56  56  56  56  56  56  56  56  56  56  56  56  56  56\n",
      "  56  56  56  56  56  56  56  56  56  56  56  56  56  36  36  36  36  36\n",
      "  36  36  36  36  36  36  36  36  36  36  36  36  36  36  36  36  36  36\n",
      "  36  36  36  36  36  36  36  36  36  36  36  36  36  18  18  18  18  18\n",
      "  18  18  18  18  18  18  18  18  18  18  18  18  18  11  11  11  11  11\n",
      "  11  11  11  11  11  11   4   4   4   4]\n"
     ]
    }
   ],
   "source": [
    "def repeater(a):\n",
    "    return np.repeat(a, a)\n",
    "\n",
    "print(repeater(counts))"
   ]
  },
  {
   "cell_type": "markdown",
   "metadata": {},
   "source": [
    "#### 4. Напишите функцию `scale(X)`, которая принимает на вход матрицу и масштабирует каждый ее столбец (вычитает среднее и делит на стандартное отклонение). Убедитесь, что в функции не будет происходить деления на ноль. Протестируйте на каких-нибудь данных."
   ]
  },
  {
   "cell_type": "code",
   "execution_count": 16,
   "metadata": {
    "collapsed": false
   },
   "outputs": [
    {
     "name": "stdout",
     "output_type": "stream",
     "text": [
      "[[68 73 71 70 77 70 69 69 68 73]\n",
      " [68 70 66 69 61 76 64 76 74 72]\n",
      " [76 75 66 62 67 72 77 77 69 77]\n",
      " [63 69 69 74 63 71 69 68 66 66]\n",
      " [74 69 66 63 69 62 66 65 68 70]\n",
      " [73 72 69 76 70 71 73 67 68 70]\n",
      " [75 72 66 68 66 79 67 71 75 63]\n",
      " [66 65 70 73 73 67 73 78 66 71]\n",
      " [72 62 72 60 70 68 70 67 68 67]\n",
      " [78 72 70 75 64 75 71 71 69 71]]\n",
      "[[ 0  0  1  0  1  0  0  0  0  0]\n",
      " [ 0  0 -1  0 -1  1 -1  1  1  0]\n",
      " [ 1  1 -1 -1  0  0  1  1  0  1]\n",
      " [-1  0  0  0 -1  0  0  0 -1 -1]\n",
      " [ 0  0 -1 -1  0 -1 -1 -1  0  0]\n",
      " [ 0  0  0  1  0  0  0  0  0  0]\n",
      " [ 0  0 -1  0  0  1  0  0  2 -1]\n",
      " [-1 -1  0  0  1  0  0  1 -1  0]\n",
      " [ 0 -2  1 -1  0  0  0  0  0  0]\n",
      " [ 1  0  0  1  0  0  0  0  0  0]]\n"
     ]
    }
   ],
   "source": [
    "def scale(x):\n",
    "    for j in range(x.shape[1]):\n",
    "        column = x[:,j]\n",
    "        std = np.std(column)\n",
    "        if std != 0:\n",
    "            x[:,j] = (column - np.mean(column))/np.std(column)\n",
    "    return x\n",
    "\n",
    "myarr = np.random.binomial(100, 0.7, size=(10,10))\n",
    "\n",
    "print(myarr)\n",
    "myarr = scale(myarr)\n",
    "print(myarr)\n"
   ]
  },
  {
   "cell_type": "markdown",
   "metadata": {},
   "source": [
    "#### 5. Сгенерируйте матрицу с элементами из нормального распределения $\\mathcal{N}(10, 1)$. Найдите ее:\n",
    "- определитель\n",
    "- след\n",
    "- наименьший и наибольший элементы\n",
    "- спектральную норму\n",
    "- норму Фробениуса\n",
    "- собственные числа\n",
    "- обратную матрицу"
   ]
  },
  {
   "cell_type": "code",
   "execution_count": 17,
   "metadata": {
    "collapsed": false,
    "scrolled": true
   },
   "outputs": [
    {
     "name": "stdout",
     "output_type": "stream",
     "text": [
      "-34295.7605741\n",
      "100.240247589\n",
      "6.94627231646 12.8523406306\n",
      "101.767256634\n",
      "[ 101.13942701+0.j           -1.68400202+2.32545455j\n",
      "   -1.68400202-2.32545455j    0.83909912+2.26830563j\n",
      "    0.83909912-2.26830563j    2.85739498+0.j            1.86135119+0.j\n",
      "   -2.29131860+0.j           -1.12291210+0.j           -0.51388907+0.j        ]\n",
      "[[  8.85346116   9.97168899   9.92003936  10.23030984  10.32088641\n",
      "    9.41246986   9.53803689   9.74265933  10.04140317   9.40532347]\n",
      " [  9.48674614  11.12498286   9.78441603  11.74000156  11.35676315\n",
      "    9.60319765   9.18448295   9.70785707   9.56391053  10.94027123]\n",
      " [  9.81286905  11.2186394    9.45614764  10.28584111  10.15666333\n",
      "   12.85234063   8.90992595  10.57304157  11.46972115   8.39044486]\n",
      " [ 10.03442888  10.0056028   10.46627307  11.58978276   9.54425749\n",
      "    8.67796484   9.59040287   8.11635162  10.2040192   11.00292776]\n",
      " [ 10.82529024   9.80195778  11.2918522   10.53076359   9.92038448\n",
      "   10.68365227  10.19660687  10.74289119   9.77920122  12.31214949]\n",
      " [ 11.3177295   11.3016937    9.82577255   9.431308     9.18918332\n",
      "   11.89733057   9.25185612  10.78070446  11.59180791  11.58096191]\n",
      " [ 10.58579217  11.54146086  11.25596675  10.19806383   8.76578814\n",
      "    7.52169518  11.46882726   9.43611544  10.6340776    9.99761198]\n",
      " [  9.66271162   9.58828347  11.2959917   11.34986338  10.51321283\n",
      "   11.40800951  10.61974854   8.03236854   8.92188899  10.88103164]\n",
      " [  9.44182959   9.65926927  10.29457704  12.60577402  10.41522876\n",
      "    8.68361086   6.94627232   9.14863269   7.81809821  10.07852886]\n",
      " [ 11.34627009   9.08302923   9.5938492    7.43637019   9.24862364\n",
      "   10.19349118   9.34069918  11.19030858  10.821992    10.07886411]]\n"
     ]
    }
   ],
   "source": [
    "m = np.random.normal(10, 1, size=(10, 10))\n",
    "\n",
    "print(np.linalg.det(m))\n",
    "print(np.trace(m))\n",
    "print(np.amin(m), np.amax(m))\n",
    "# print(np.linalg.norm(m, 'ord'))??\n",
    "print(np.linalg.norm(m, 'fro'))\n",
    "w, v = np.linalg.eig(m)\n",
    "print(w)\n",
    "print(np.matrix.transpose(m))"
   ]
  },
  {
   "cell_type": "markdown",
   "metadata": {},
   "source": [
    "## Часть 3: Pandas"
   ]
  },
  {
   "cell_type": "markdown",
   "metadata": {},
   "source": [
    "#### Ответьте на вопросы о данных по авиарейсам в США за январь-апрель 2008 года.\n",
    "\n",
    "Данные: http://stat-computing.org/dataexpo/2009/2008.csv.bz2\n",
    "(обратите внимание, что распаковывать этот файл не обязательно — функция `pandas.read_csv` умеет читать из архивов автоматически)\n",
    "\n",
    "Описание: http://stat-computing.org/dataexpo/2009/the-data.html\n",
    "\n",
    "1. Какая из причин отмены рейса (`CancellationCode`) была самой частой? (расшифровки кодов можно найти в описании данных)\n",
    "2. Найдите среднее, минимальное и максимальное расстояние, пройденное самолетом.\n",
    "3. Не выглядит ли подозрительным минимальное пройденное расстояние? В какие дни и на каких рейсах оно было? Какое расстояние было пройдено этими же рейсами в другие дни?\n",
    "4. Из какого аэропорта было произведено больше всего вылетов? В каком городе он находится?\n",
    "5. Найдите для каждого аэропорта среднее время полета (`AirTime`) по всем вылетевшим из него рейсам. Какой аэропорт имеет наибольшее значение этого показателя?\n",
    "6. Найдите аэропорт, у которого наибольшая доля задержанных (`DepDelay > 0`) рейсов. Исключите при этом из рассмотрения аэропорты, из которых было отправлено меньше 1000 рейсов (используйте функцию `filter` после `groupby`)."
   ]
  },
  {
   "cell_type": "code",
   "execution_count": 19,
   "metadata": {
    "collapsed": false
   },
   "outputs": [],
   "source": [
    "import pandas\n",
    "\n",
    "data = pandas.read_csv(\"2008.csv.bz2\") # http://stat-computing.org/dataexpo/2009/2008.csv.bz2"
   ]
  },
  {
   "cell_type": "markdown",
   "metadata": {},
   "source": [
    "##### 1 Какая из причин отмены рейса (`CancellationCode`) была самой частой? (расшифровки кодов можно найти в описании данных)\n",
    "\n",
    "reason for cancellation (A = carrier, B = weather, C = NAS, D = security)\n",
    "\n"
   ]
  },
  {
   "cell_type": "code",
   "execution_count": 20,
   "metadata": {
    "collapsed": false
   },
   "outputs": [
    {
     "data": {
      "text/plain": [
       "'B'"
      ]
     },
     "execution_count": 20,
     "metadata": {},
     "output_type": "execute_result"
    }
   ],
   "source": [
    "data['CancellationCode'].value_counts().keys()[0]"
   ]
  },
  {
   "cell_type": "markdown",
   "metadata": {},
   "source": [
    "##### 2 Найдите среднее, минимальное и максимальное расстояние, пройденное самолетом.\n"
   ]
  },
  {
   "cell_type": "code",
   "execution_count": 21,
   "metadata": {
    "collapsed": false
   },
   "outputs": [
    {
     "name": "stdout",
     "output_type": "stream",
     "text": [
      "726.387029425 11 4962\n"
     ]
    }
   ],
   "source": [
    "distance = data['Distance']\n",
    "mean_dist = np.mean(distance)\n",
    "min_dist = np.amin(distance)\n",
    "max_dist = np.amax(distance)\n",
    "print(mean_dist, min_dist, max_dist)"
   ]
  },
  {
   "cell_type": "markdown",
   "metadata": {},
   "source": [
    "##### 3. Не выглядит ли подозрительным минимальное пройденное расстояние? В какие дни и на каких рейсах оно было? Какое расстояние было пройдено этими же рейсами в другие дни?\n",
    "\n",
    "Коллеги, обратите внимание на третий пункт задания по Pandas. Там в том числе нужно посчитать расстояние, пройденное этими же рейсами в другие дни. Рейс характеризуется двумя величинами: номером и кодом авиакомпании. Например, SU9 — это рейс Аэрофлота номер 9, который летит из Питера в Москву. Совпадения по номеру недостаточно. Так, рейс AA9 — это рейс American Airlines номер 9 из Нью-Йорка в Сан-Франциско.\n",
    "\n",
    "Тем, кто уже прислал мне решение, но у кого я еще не проверил — пожалуйста, сэкономьте мое время, проверьте у себя этот пункт и пришлите исправленную версию, если там есть ошибка."
   ]
  },
  {
   "cell_type": "markdown",
   "metadata": {},
   "source": []
  },
  {
   "cell_type": "code",
   "execution_count": 22,
   "metadata": {
    "collapsed": false
   },
   "outputs": [
    {
     "name": "stdout",
     "output_type": "stream",
     "text": [
      "15.5.2008 - OH4988\n",
      "В какие месяца:\n",
      " [1, 2, 3, 4, 5]\n",
      "На какие расстояния:\n",
      " [96, 834]\n",
      "\n",
      "\n",
      "\n",
      "10.8.2008 - OH5572\n",
      "В какие месяца:\n",
      " [1, 2, 3, 4, 5, 6, 7, 8]\n",
      "На какие расстояния:\n",
      " [544]\n",
      "\n",
      "\n",
      "\n"
     ]
    }
   ],
   "source": [
    "data_with_min_dist = data.loc[data['Distance'] == min_dist]\n",
    "for index, row in data_with_min_dist.iterrows():\n",
    "    print(\"%s.%s.%s - %s%s\" % (row['DayofMonth'],\n",
    "                               row['Month'],\n",
    "                               row['Year'],\n",
    "                               row['UniqueCarrier'],\n",
    "                               row['FlightNum']))\n",
    "\n",
    "    flight_data = data.loc[(data['UniqueCarrier'] == row['UniqueCarrier']) & \n",
    "                           (data['FlightNum'] == row['FlightNum'])]\n",
    "    \n",
    "    flight_data = flight_data.loc[flight_data['Distance'] != min_dist]\n",
    "    \n",
    "#     print(flight_data[['Distance', 'DayofMonth', 'Month', 'Year', 'Origin', 'Dest']])\n",
    "    print(\"В какие месяца:\\n\", sorted(flight_data['Month'].value_counts().keys()))\n",
    "    print(\"На какие расстояния:\\n\", sorted(flight_data['Distance'].value_counts().keys()))\n",
    "    print(\"\\n\\n\")"
   ]
  },
  {
   "cell_type": "markdown",
   "metadata": {},
   "source": [
    "##### 4. Из какого аэропорта было произведено больше всего вылетов? В каком городе он находится?\n"
   ]
  },
  {
   "cell_type": "code",
   "execution_count": 23,
   "metadata": {
    "collapsed": false
   },
   "outputs": [
    {
     "name": "stdout",
     "output_type": "stream",
     "text": [
      "ATL\n",
      "William B Hartsfield-Atlanta Intl\n"
     ]
    }
   ],
   "source": [
    "airports = pandas.read_csv(\"airports.csv\") # http://stat-computing.org/dataexpo/2009/airports.csv\n",
    "\n",
    "def get_airport_name(iata):\n",
    "    airport = airports.loc[airports['iata'] == iata]\n",
    "    return airport['airport'].values[0]\n",
    "\n",
    "iata_of_most_loaded_airport = data['Origin'].value_counts().keys()[0]\n",
    "print(iata_of_most_loaded_airport)\n",
    "\n",
    "print(get_airport_name(iata_of_most_loaded_airport))"
   ]
  },
  {
   "cell_type": "markdown",
   "metadata": {},
   "source": [
    "##### 5. Найдите для каждого аэропорта среднее время полета (`AirTime`) по всем вылетевшим из него рейсам. Какой аэропорт имеет наибольшее значение этого показателя?\n"
   ]
  },
  {
   "cell_type": "code",
   "execution_count": 24,
   "metadata": {
    "collapsed": false
   },
   "outputs": [
    {
     "name": "stdout",
     "output_type": "stream",
     "text": [
      "SJU\n",
      "Luis Munoz Marin International\n"
     ]
    }
   ],
   "source": [
    "g = data.groupby(['Origin'])\n",
    "means = g['AirTime'].mean().order(ascending=False)\n",
    "iata = (means).index.values[0]\n",
    "print(iata)\n",
    "print(get_airport_name(iata))"
   ]
  },
  {
   "cell_type": "markdown",
   "metadata": {},
   "source": [
    "##### 6. Найдите аэропорт, у которого наибольшая доля задержанных (`DepDelay > 0`) рейсов. Исключите при этом из рассмотрения аэропорты, из которых было отправлено меньше 1000 рейсов (используйте функцию `filter` после `groupby`)."
   ]
  },
  {
   "cell_type": "code",
   "execution_count": 25,
   "metadata": {
    "collapsed": false
   },
   "outputs": [],
   "source": [
    "g = data.groupby('Origin').filter(lambda x: len(x) >= 1000)\n",
    "g = g.groupby('Origin')\n",
    "means = g['DepDelay'].mean()\n"
   ]
  },
  {
   "cell_type": "code",
   "execution_count": 26,
   "metadata": {
    "collapsed": false
   },
   "outputs": [
    {
     "name": "stdout",
     "output_type": "stream",
     "text": [
      "CEC\n",
      "Jack McNamara \n"
     ]
    }
   ],
   "source": [
    "iata = (means.order(ascending=False).iloc[[0]]).index.values[0]\n",
    "print(iata)\n",
    "print(get_airport_name(iata))"
   ]
  },
  {
   "cell_type": "code",
   "execution_count": null,
   "metadata": {
    "collapsed": true
   },
   "outputs": [],
   "source": []
  },
  {
   "cell_type": "code",
   "execution_count": null,
   "metadata": {
    "collapsed": true
   },
   "outputs": [],
   "source": []
  }
 ],
 "metadata": {
  "kernelspec": {
   "display_name": "Python 3",
   "language": "python",
   "name": "python3"
  },
  "language_info": {
   "codemirror_mode": {
    "name": "ipython",
    "version": 3
   },
   "file_extension": ".py",
   "mimetype": "text/x-python",
   "name": "python",
   "nbconvert_exporter": "python",
   "pygments_lexer": "ipython3",
   "version": "3.5.0"
  }
 },
 "nbformat": 4,
 "nbformat_minor": 0
}
