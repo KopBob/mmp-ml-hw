{
 "cells": [
  {
   "cell_type": "markdown",
   "metadata": {},
   "source": [
    "# Лабораторная работа 1. Язык Python, основные библиотеки для анализа данных."
   ]
  },
  {
   "cell_type": "markdown",
   "metadata": {},
   "source": [
    "ФИО: Копин Борис Александрович\n",
    "\n",
    "Группа: "
   ]
  },
  {
   "cell_type": "code",
   "execution_count": 2,
   "metadata": {
    "collapsed": true
   },
   "outputs": [],
   "source": [
    "import numpy as np\n",
    "import pandas as pd\n",
    "from functools import reduce"
   ]
  },
  {
   "cell_type": "markdown",
   "metadata": {},
   "source": [
    "## Часть 1: Python"
   ]
  },
  {
   "cell_type": "markdown",
   "metadata": {},
   "source": [
    "#### 1. Напишите код, который сформирует список всех натуральных чисел, не превосходящих 100, которые делятся на 7 и не делятся на 5. Нельзя использовать циклы — выполните это задание с помощью list comprehension."
   ]
  },
  {
   "cell_type": "code",
   "execution_count": 3,
   "metadata": {
    "collapsed": false
   },
   "outputs": [
    {
     "data": {
      "text/plain": [
       "[7, 14, 21, 28, 42, 49, 56, 63, 77, 84, 91, 98]"
      ]
     },
     "execution_count": 3,
     "metadata": {},
     "output_type": "execute_result"
    }
   ],
   "source": [
    "[x for x in range(1, 101) if (x%7==0) and (x%5!=0)]"
   ]
  },
  {
   "cell_type": "markdown",
   "metadata": {},
   "source": [
    "#### 2. Напишите функцию `sort_tokens(s)`, которая принимает на вход строку, разделяет ее на токены по запятым, сортирует токены с помощью функции `sorted()` и снова соединяет их в одну строку через запятые. Например, для строки `u\"ночь,фонарь,улица\"` функция должна выдать `u\"ночь,улица,фонарь\"`. Придумайте несколько входных строк и протестируйте функцию на них."
   ]
  },
  {
   "cell_type": "markdown",
   "metadata": {},
   "source": [
    "Обратите внимание, что склеить строки можно с помощью конструкции `'x'.join(...)`. Например:"
   ]
  },
  {
   "cell_type": "code",
   "execution_count": 4,
   "metadata": {
    "collapsed": false
   },
   "outputs": [
    {
     "data": {
      "text/plain": [
       "'i! am! very! excited! :-)'"
      ]
     },
     "execution_count": 4,
     "metadata": {},
     "output_type": "execute_result"
    }
   ],
   "source": [
    "'! '.join(['i', 'am', 'very', 'excited', ':-)'])"
   ]
  },
  {
   "cell_type": "code",
   "execution_count": 5,
   "metadata": {
    "collapsed": false
   },
   "outputs": [
    {
     "name": "stdout",
     "output_type": "stream",
     "text": [
      "ночь,улица,фонарь\n"
     ]
    }
   ],
   "source": [
    "def sort_tokens(s):\n",
    "    words = s.split(',')\n",
    "    words = sorted(words)\n",
    "    return ','.join(words)\n",
    "\n",
    "str = u\"ночь,фонарь,улица\"\n",
    "print(sort_tokens(str))"
   ]
  },
  {
   "cell_type": "markdown",
   "metadata": {},
   "source": [
    "#### 3. Напишите функцию `remove_duplicates(a)`, которая принимает на вход список и возвращает его же, но без дубликатов и в отсортированном виде. Например, для списка `[u\"ночь\", u\"улица\", u\"фонарь\", u\"аптека\", u\"аптека\", u\"улица\", u\"фонарь\"]` результат должен быть `[u\"аптека\", u\"ночь\", u\"улица\", u\"фонарь\", ]`."
   ]
  },
  {
   "cell_type": "markdown",
   "metadata": {},
   "source": [
    "Подсказка: обратите внимание на структуру `set`!"
   ]
  },
  {
   "cell_type": "code",
   "execution_count": 6,
   "metadata": {
    "collapsed": false
   },
   "outputs": [
    {
     "name": "stdout",
     "output_type": "stream",
     "text": [
      "{'фонарь', 'ночь', 'улица', 'аптека'}\n"
     ]
    }
   ],
   "source": [
    "def remove_duplicates(a):\n",
    "    return set(a)\n",
    "array = [u\"ночь\", u\"улица\", u\"фонарь\", u\"аптека\", u\"аптека\", u\"улица\", u\"фонарь\"]\n",
    "print(remove_duplicates(array))"
   ]
  },
  {
   "cell_type": "markdown",
   "metadata": {},
   "source": [
    "#### 4. Напишите функцию `word_counts(texts)`, которая принимает на вход список строк, и печатает пары (слово, число вхождений). Считайте, что слова в текстах могут быть разделены только пробелами. Например, для входа `[u'ночь улица фонарь аптека', u'аптека улица фонарь']` должно быть напечатано\n",
    ">аптека 2\n",
    "\n",
    ">улица 2\n",
    "\n",
    ">фонарь 2\n",
    "\n",
    ">ночь 1"
   ]
  },
  {
   "cell_type": "markdown",
   "metadata": {},
   "source": [
    "Подсказки:\n",
    "\n",
    "Чтобы разбить каждый из текстов на слова, воспользуйтесь функцией `map`, которая применяет заданную функцию к каждому элементу списка. Например, если бы нужно было каждый из текстов привести к нижнему регистру, то команда выглядела бы так:"
   ]
  },
  {
   "cell_type": "code",
   "execution_count": 7,
   "metadata": {
    "collapsed": false
   },
   "outputs": [
    {
     "data": {
      "text/plain": [
       "['abcdefg', 'hijkl']"
      ]
     },
     "execution_count": 7,
     "metadata": {},
     "output_type": "execute_result"
    }
   ],
   "source": [
    "list(map(lambda x: x.lower(), [\"abCDefg\", \"HIjkL\"]))"
   ]
  },
  {
   "cell_type": "markdown",
   "metadata": {},
   "source": [
    "После первого шага вы получите список, состоящий из списков слов. Чтобы объединить их в один список слов, воспользуйтесь функцией `reduce`. Например, просуммировать числа из списка с ее помощью можно так:\n",
    "\n"
   ]
  },
  {
   "cell_type": "code",
   "execution_count": 8,
   "metadata": {
    "collapsed": false
   },
   "outputs": [
    {
     "data": {
      "text/plain": [
       "15"
      ]
     },
     "execution_count": 8,
     "metadata": {},
     "output_type": "execute_result"
    }
   ],
   "source": [
    "reduce(lambda x, y: x + y, [1, 2, 3, 4, 5])"
   ]
  },
  {
   "cell_type": "markdown",
   "metadata": {},
   "source": [
    "Для подсчета количества вхождений слов воспользуйтесь структурой `defaultdict` из модуля `collections`. В отличие от обычного `dict`, она не генерирует ошибку при обращении к несуществущему ключу, а создает новую запись, инициализируемую нулевым значением. Например:"
   ]
  },
  {
   "cell_type": "code",
   "execution_count": 9,
   "metadata": {
    "collapsed": false
   },
   "outputs": [
    {
     "name": "stdout",
     "output_type": "stream",
     "text": [
      "defaultdict(<class 'int'>, {})\n",
      "defaultdict(<class 'int'>, {'abc': 1})\n",
      "defaultdict(<class 'int'>, {'xxx': 0, 'abc': 1})\n"
     ]
    }
   ],
   "source": [
    "from collections import defaultdict\n",
    "d = defaultdict(int)\n",
    "print(d)\n",
    "d['abc'] += 1\n",
    "print(d)\n",
    "d['xxx']\n",
    "print(d)"
   ]
  },
  {
   "cell_type": "code",
   "execution_count": 10,
   "metadata": {
    "collapsed": false
   },
   "outputs": [
    {
     "name": "stdout",
     "output_type": "stream",
     "text": [
      "defaultdict(<class 'int'>, {'фонарь': 2, 'ночь': 1, 'улица': 2, 'аптека': 2})\n"
     ]
    }
   ],
   "source": [
    "def word_counts(texts):\n",
    "    bag = defaultdict(int)\n",
    "    \n",
    "    splited = map(lambda x: x.split(' '), texts)\n",
    "    reduced = reduce(lambda x, y: x + y, splited)\n",
    "    \n",
    "    for word in reduced:\n",
    "        bag[word]+=1\n",
    "        \n",
    "    return bag\n",
    "\n",
    "str = [u'ночь улица фонарь аптека', u'аптека улица фонарь']\n",
    "print(word_counts(str))"
   ]
  },
  {
   "cell_type": "markdown",
   "metadata": {},
   "source": [
    "#### 5. (бонусное задание) Скачайте английский перевод \"Преступления и наказания\". Найдите 20 самых популярных слов и 20 слов, которые встречаются только один раз."
   ]
  },
  {
   "cell_type": "markdown",
   "metadata": {},
   "source": [
    "Приведите текст к нижнему регистру. Разделите текст на слова, считая разделителями все, кроме букв. Обратите внимание на функцию `split` из модуля `re`.\n",
    "\n",
    "Не забудьте удалить пустые слова:\n",
    "```\n",
    "words = filter(lambda x: len(x) > 0, words)\n",
    "```"
   ]
  },
  {
   "cell_type": "code",
   "execution_count": 11,
   "metadata": {
    "collapsed": false
   },
   "outputs": [],
   "source": [
    "from urllib.request import urlopen\n",
    "url = \"http://www.gutenberg.org/files/2554/2554.txt\"\n",
    "response = urlopen(url)\n",
    "raw_text = response.read().decode('utf8')"
   ]
  },
  {
   "cell_type": "code",
   "execution_count": 12,
   "metadata": {
    "collapsed": false
   },
   "outputs": [
    {
     "data": {
      "text/plain": [
       "'r five\\r\\nchildren in only two rooms. The father and mother spent their evenings\\r\\nin reading aloud to '"
      ]
     },
     "execution_count": 12,
     "metadata": {},
     "output_type": "execute_result"
    }
   ],
   "source": [
    "raw_text[1000:1100]"
   ]
  },
  {
   "cell_type": "code",
   "execution_count": 13,
   "metadata": {
    "collapsed": false
   },
   "outputs": [
    {
     "name": "stdout",
     "output_type": "stream",
     "text": [
      "[('the', 7995), ('and', 7042), ('to', 5493), ('he', 4892), ('a', 4665), ('i', 4402), ('you', 4114), ('of', 3926), ('it', 3460), ('that', 3294), ('in', 3250), ('was', 2826), ('his', 2114), ('at', 2082), ('her', 1828), ('but', 1801), ('not', 1774), ('s', 1765), ('with', 1757), ('she', 1692)]\n",
      "[('ours', 1), ('headdress', 1), ('responsive', 1), ('fervent', 1), ('ticking', 1), ('cuckoo', 1), ('rusty', 1), ('governorship', 1), ('trustful', 1), ('ensuring', 1), ('dost', 1), ('trousseau', 1), ('diamond', 1), ('posed', 1), ('propose', 1), ('hugging', 1), ('abyss', 1), ('subdue', 1), ('seconded', 1), ('verbal', 1)]\n"
     ]
    }
   ],
   "source": [
    "import string\n",
    "import re\n",
    "import operator\n",
    "\n",
    "raw_text = raw_text.lower()\n",
    "delimiters = set(raw_text) - set(string.ascii_lowercase)\n",
    "\n",
    "words = re.split('\\W+', raw_text)\n",
    "words = filter(lambda x: len(x) > 0, words)\n",
    "\n",
    "counted_words = word_counts([\" \".join(words)])\n",
    "sorted_words = sorted(counted_words.items(), key=operator.itemgetter(1), reverse=True)\n",
    "\n",
    "twenty_of_most_popular_words = sorted_words[:20]\n",
    "twenty_of_once_occured_words = [x for x in sorted_words if x[1] == 1][:20]\n",
    "\n",
    "print(twenty_of_most_popular_words)\n",
    "print(twenty_of_once_occured_words)"
   ]
  },
  {
   "cell_type": "markdown",
   "metadata": {},
   "source": [
    "## Часть 2: NumPy и SciPy"
   ]
  },
  {
   "cell_type": "markdown",
   "metadata": {},
   "source": [
    "#### 1. Повторите 1000 раз следующий эксперимент: сгенерируйте две матрицы размера $10 \\times 10$ из стандартного нормального распределения, перемножьте их (как матрицы) и найдите максимальный элемент. Какое среднее значение по экспериментам у максимальных элементов? 95-процентная квантиль?"
   ]
  },
  {
   "cell_type": "markdown",
   "metadata": {},
   "source": [
    "Для вычисления квантили воспользуйтесь функцией `np.percentile`"
   ]
  },
  {
   "cell_type": "code",
   "execution_count": 14,
   "metadata": {
    "collapsed": false
   },
   "outputs": [
    {
     "name": "stdout",
     "output_type": "stream",
     "text": [
      "8.39036667341\n",
      "11.8388818848\n"
     ]
    }
   ],
   "source": [
    "iterations = 1000\n",
    "alpha = 95\n",
    "\n",
    "maximums = []\n",
    "for x in range(iterations):\n",
    "    matrix1 = np.random.standard_normal(size=(10,10))\n",
    "    matrix2 = np.random.standard_normal(size=(10,10))\n",
    "    maximums.append(np.max(np.dot(matrix1, matrix2)))\n",
    "    \n",
    "print(np.mean(maximums))\n",
    "print(np.percentile(maximums, alpha))"
   ]
  },
  {
   "cell_type": "markdown",
   "metadata": {},
   "source": [
    "#### 2. Сгенерируйте 1000 чисел из распределения Пуассона с параметром $\\lambda = 5$. Сформируйте массив, в котором в i-м элементе будет записано количество сгенерированных чисел, равных i."
   ]
  },
  {
   "cell_type": "markdown",
   "metadata": {},
   "source": [
    "Обратите внимание на функцию `np.bincount`"
   ]
  },
  {
   "cell_type": "code",
   "execution_count": 15,
   "metadata": {
    "collapsed": false
   },
   "outputs": [
    {
     "name": "stdout",
     "output_type": "stream",
     "text": [
      "[(0, 10), (1, 24), (2, 80), (3, 134), (4, 184), (5, 156), (6, 158), (7, 94), (8, 88), (9, 43), (10, 19), (11, 4), (12, 3), (13, 0), (14, 1), (15, 1), (16, 0), (17, 1)]\n",
      "[ 10  24  80 134 184 156 158  94  88  43  19   4   3   0   1   1   0   1]\n"
     ]
    }
   ],
   "source": [
    "n = np.random.poisson(5, 1000)\n",
    "\n",
    "counts = np.bincount(n)\n",
    "indexes = np.nonzero(counts)[0]\n",
    "bag = list(zip(range(counts.size), counts))\n",
    "\n",
    "print(bag)\n",
    "print(counts)\n"
   ]
  },
  {
   "cell_type": "markdown",
   "metadata": {},
   "source": [
    "#### 3. Реализуйте функцию, которая принимает на вход numpy-массив целых чисел `a`, и генерирует массив, в котором число `i` встречается `a[i]` раз. Протестируйте на результате из прошлого задания."
   ]
  },
  {
   "cell_type": "markdown",
   "metadata": {},
   "source": [
    "Обратите внимание на функцию `np.repeat`"
   ]
  },
  {
   "cell_type": "code",
   "execution_count": 16,
   "metadata": {
    "collapsed": false
   },
   "outputs": [
    {
     "name": "stdout",
     "output_type": "stream",
     "text": [
      "[ 0  0  0  0  0  0  0  0  0  0  1  1  1  1  1  1  1  1  1  1  1  1  1  1  1\n",
      "  1  1  1  1  1  1  1  1  1  2  2  2  2  2  2  2  2  2  2  2  2  2  2  2  2\n",
      "  2  2  2  2  2  2  2  2  2  2  2  2  2  2  2  2  2  2  2  2  2  2  2  2  2\n",
      "  2  2  2  2  2  2  2  2  2  2  2  2  2  2  2  2  2  2  2  2  2  2  2  2  2\n",
      "  2  2  2  2  2  2  2  2  2  2  2  2  2  2  3  3  3  3  3  3  3  3  3  3  3\n",
      "  3  3  3  3  3  3  3  3  3  3  3  3  3  3  3  3  3  3  3  3  3  3  3  3  3\n",
      "  3  3  3  3  3  3  3  3  3  3  3  3  3  3  3  3  3  3  3  3  3  3  3  3  3\n",
      "  3  3  3  3  3  3  3  3  3  3  3  3  3  3  3  3  3  3  3  3  3  3  3  3  3\n",
      "  3  3  3  3  3  3  3  3  3  3  3  3  3  3  3  3  3  3  3  3  3  3  3  3  3\n",
      "  3  3  3  3  3  3  3  3  3  3  3  3  3  3  3  3  3  3  3  3  3  3  3  4  4\n",
      "  4  4  4  4  4  4  4  4  4  4  4  4  4  4  4  4  4  4  4  4  4  4  4  4  4\n",
      "  4  4  4  4  4  4  4  4  4  4  4  4  4  4  4  4  4  4  4  4  4  4  4  4  4\n",
      "  4  4  4  4  4  4  4  4  4  4  4  4  4  4  4  4  4  4  4  4  4  4  4  4  4\n",
      "  4  4  4  4  4  4  4  4  4  4  4  4  4  4  4  4  4  4  4  4  4  4  4  4  4\n",
      "  4  4  4  4  4  4  4  4  4  4  4  4  4  4  4  4  4  4  4  4  4  4  4  4  4\n",
      "  4  4  4  4  4  4  4  4  4  4  4  4  4  4  4  4  4  4  4  4  4  4  4  4  4\n",
      "  4  4  4  4  4  4  4  4  4  4  4  4  4  4  4  4  4  4  4  4  4  4  4  4  4\n",
      "  4  4  4  4  4  4  4  5  5  5  5  5  5  5  5  5  5  5  5  5  5  5  5  5  5\n",
      "  5  5  5  5  5  5  5  5  5  5  5  5  5  5  5  5  5  5  5  5  5  5  5  5  5\n",
      "  5  5  5  5  5  5  5  5  5  5  5  5  5  5  5  5  5  5  5  5  5  5  5  5  5\n",
      "  5  5  5  5  5  5  5  5  5  5  5  5  5  5  5  5  5  5  5  5  5  5  5  5  5\n",
      "  5  5  5  5  5  5  5  5  5  5  5  5  5  5  5  5  5  5  5  5  5  5  5  5  5\n",
      "  5  5  5  5  5  5  5  5  5  5  5  5  5  5  5  5  5  5  5  5  5  5  5  5  5\n",
      "  5  5  5  5  5  5  5  5  5  5  5  5  5  6  6  6  6  6  6  6  6  6  6  6  6\n",
      "  6  6  6  6  6  6  6  6  6  6  6  6  6  6  6  6  6  6  6  6  6  6  6  6  6\n",
      "  6  6  6  6  6  6  6  6  6  6  6  6  6  6  6  6  6  6  6  6  6  6  6  6  6\n",
      "  6  6  6  6  6  6  6  6  6  6  6  6  6  6  6  6  6  6  6  6  6  6  6  6  6\n",
      "  6  6  6  6  6  6  6  6  6  6  6  6  6  6  6  6  6  6  6  6  6  6  6  6  6\n",
      "  6  6  6  6  6  6  6  6  6  6  6  6  6  6  6  6  6  6  6  6  6  6  6  6  6\n",
      "  6  6  6  6  6  6  6  6  6  6  6  6  6  6  6  6  6  6  6  6  6  7  7  7  7\n",
      "  7  7  7  7  7  7  7  7  7  7  7  7  7  7  7  7  7  7  7  7  7  7  7  7  7\n",
      "  7  7  7  7  7  7  7  7  7  7  7  7  7  7  7  7  7  7  7  7  7  7  7  7  7\n",
      "  7  7  7  7  7  7  7  7  7  7  7  7  7  7  7  7  7  7  7  7  7  7  7  7  7\n",
      "  7  7  7  7  7  7  7  7  7  7  7  7  7  7  7  8  8  8  8  8  8  8  8  8  8\n",
      "  8  8  8  8  8  8  8  8  8  8  8  8  8  8  8  8  8  8  8  8  8  8  8  8  8\n",
      "  8  8  8  8  8  8  8  8  8  8  8  8  8  8  8  8  8  8  8  8  8  8  8  8  8\n",
      "  8  8  8  8  8  8  8  8  8  8  8  8  8  8  8  8  8  8  8  8  8  8  8  8  8\n",
      "  8  8  8  9  9  9  9  9  9  9  9  9  9  9  9  9  9  9  9  9  9  9  9  9  9\n",
      "  9  9  9  9  9  9  9  9  9  9  9  9  9  9  9  9  9  9  9  9  9 10 10 10 10\n",
      " 10 10 10 10 10 10 10 10 10 10 10 10 10 10 10 11 11 11 11 12 12 12 14 15 17]\n"
     ]
    }
   ],
   "source": [
    "def repeater(a):\n",
    "    return np.repeat(range(len(a)), a)\n",
    "\n",
    "print(repeater(counts))"
   ]
  },
  {
   "cell_type": "markdown",
   "metadata": {},
   "source": [
    "#### 4. Напишите функцию `scale(X)`, которая принимает на вход матрицу и масштабирует каждый ее столбец (вычитает среднее и делит на стандартное отклонение). Убедитесь, что в функции не будет происходить деления на ноль. Протестируйте на каких-нибудь данных."
   ]
  },
  {
   "cell_type": "code",
   "execution_count": 17,
   "metadata": {
    "collapsed": false
   },
   "outputs": [
    {
     "name": "stdout",
     "output_type": "stream",
     "text": [
      "[[69 69 70 72 72 66 64 69 69 59]\n",
      " [69 72 73 61 75 72 71 73 71 69]\n",
      " [69 75 76 69 69 80 67 76 70 72]\n",
      " [79 65 71 76 65 69 72 64 62 72]\n",
      " [77 75 69 60 66 71 68 74 75 68]\n",
      " [63 68 70 72 70 69 67 70 67 68]\n",
      " [67 68 69 70 72 71 68 65 69 78]\n",
      " [66 65 65 69 69 69 63 72 74 72]\n",
      " [62 72 73 74 67 76 75 73 70 74]\n",
      " [66 64 70 68 76 70 73 73 75 66]]\n",
      "[[ 0.05772434  0.05772434  0.2501388   0.63496772  0.63496772 -0.51951904\n",
      "  -0.90434797  0.05772434  0.05772434 -1.86642027]\n",
      " [-0.07795496  0.7015946   0.96144445 -2.15675376  1.48114415  0.7015946\n",
      "   0.44174475  0.96144445  0.44174475 -0.07795496]\n",
      " [-0.57142857  1.57142857  1.92857143 -0.57142857 -0.57142857  3.35714286\n",
      "  -1.28571429  1.92857143 -0.21428571  0.5       ]\n",
      " [ 2.02547608 -0.83883353  0.38872773  1.41169545 -0.83883353 -0.02045935\n",
      "   0.59332128 -1.04342707 -1.45261416  0.59332128]\n",
      " [ 1.98443071  1.40923341 -0.31635852 -2.90474641 -1.17915448  0.25883879\n",
      "  -0.60395717  1.12163475  1.40923341 -0.60395717]\n",
      " [-2.18648298 -0.86932456 -0.34246119  0.18440218 -0.34246119 -0.60589288\n",
      "  -1.13275625 -0.34246119 -1.13275625 -0.86932456]\n",
      " [-0.4888129  -0.21725018  0.05431254  0.32587527  0.86900071  0.59743799\n",
      "  -0.21725018 -1.03193835  0.05431254  2.49837705]\n",
      " [-1.32432432 -1.59459459 -1.59459459 -0.51351351 -0.51351351 -0.51351351\n",
      "  -2.13513514  0.2972973   0.83783784  0.2972973 ]\n",
      " [-2.17912541  0.4783446   0.7440916   1.00983861 -0.85039041  1.54133261\n",
      "   1.27558561  0.7440916  -0.0531494   1.00983861]\n",
      " [-0.77957944 -1.18988441  0.0410305  -0.36927447  1.27194541  0.0410305\n",
      "   0.65648795  0.65648795  1.06679292 -0.77957944]]\n"
     ]
    }
   ],
   "source": [
    "def scale(x):\n",
    "    mean_vect = np.mean(x, axis=0)\n",
    "    std_vect = np.std(x, axis=0)\n",
    "    return ((x.T - mean_vect) / std_vect).T\n",
    "\n",
    "myarr = np.random.binomial(100, 0.7, size=(10, 10))\n",
    "\n",
    "print(myarr)\n",
    "myarr = scale(myarr)\n",
    "print(myarr)\n"
   ]
  },
  {
   "cell_type": "markdown",
   "metadata": {},
   "source": [
    "#### 5. Сгенерируйте матрицу с элементами из нормального распределения $\\mathcal{N}(10, 1)$. Найдите ее:\n",
    "- определитель\n",
    "- след\n",
    "- наименьший и наибольший элементы\n",
    "- спектральную норму\n",
    "- норму Фробениуса\n",
    "- собственные числа\n",
    "- обратную матрицу"
   ]
  },
  {
   "cell_type": "code",
   "execution_count": 18,
   "metadata": {
    "collapsed": false,
    "scrolled": true
   },
   "outputs": [
    {
     "name": "stdout",
     "output_type": "stream",
     "text": [
      "определитель =  51736.4972712\n",
      "след =  101.05410441\n",
      "наименьший и наибольший элемент =  7.89824570527 12.6272865463\n",
      "спектральная норма =  100.415160658\n",
      "норма Фробениуса =  100.878201555\n",
      "собственные числа =  [ 100.38308224+0.j            3.22317462+0.j           -0.63006305+2.95630629j\n",
      "   -0.63006305-2.95630629j    1.52757297+2.2465405j\n",
      "    1.52757297-2.2465405j    -2.19604522+0.j           -0.69727685+0.97006022j\n",
      "   -0.69727685-0.97006022j   -0.75657336+0.j        ]\n",
      "обратная матрица =  [[ 0.02116813 -0.07999608  0.19968587  0.23602449 -0.2180217   0.08695621\n",
      "   0.13270666 -0.29993353  0.05675942 -0.14536658]\n",
      " [ 0.33338587 -0.33682738  1.45099699 -0.7057799  -0.94500177  0.19713155\n",
      "   0.21685068  0.36805073 -0.69906329  0.07385449]\n",
      " [-0.47868632  0.23510408 -1.19556482  0.2545994   0.61267508 -0.17173353\n",
      "  -0.06315683  0.11145979  0.5209013   0.24718668]\n",
      " [ 0.27857716 -0.31287775  1.70344694 -0.6963177  -0.90047543  0.27663933\n",
      "   0.19702366  0.62501722 -1.00568806 -0.22107659]\n",
      " [ 0.28715868 -0.23415007  0.19490867  0.08147757  0.01683501  0.04211303\n",
      "   0.15854845 -0.3777997  -0.23959375  0.06716522]\n",
      " [ 0.12028752 -0.31742853  1.01893202 -0.57673768 -0.50041289  0.23190556\n",
      "   0.24552981  0.37422851 -0.31408771 -0.31108903]\n",
      " [ 0.31992321 -0.11951631  0.72206224  0.03693934 -0.13237183 -0.16212506\n",
      "  -0.23115004 -0.1462379  -0.35016343  0.03964996]\n",
      " [-0.76235239  0.68315442 -2.92012336  1.25167958  1.48146771 -0.13850455\n",
      "  -0.46549835 -0.87157095  1.60909864  0.25877226]\n",
      " [-0.52756431  0.68008824 -2.04112468  0.52457473  1.11360746 -0.28685026\n",
      "  -0.19613729 -0.25229403  0.98964623  0.09853181]\n",
      " [ 0.42216982 -0.19182921  0.85416633 -0.37904839 -0.50534073 -0.06869989\n",
      "   0.00899188  0.47365297 -0.56175812 -0.08610564]]\n"
     ]
    }
   ],
   "source": [
    "m = np.random.normal(10, 1, size=(10, 10))\n",
    "\n",
    "print(u\"определитель = \", np.linalg.det(m))\n",
    "print(u\"след = \", np.trace(m))\n",
    "print(u\"наименьший и наибольший элемент = \", np.amin(m), np.amax(m))\n",
    "print(u\"спектральная норма = \", np.linalg.norm(m, 2))\n",
    "print(u\"норма Фробениуса = \", np.linalg.norm(m, 'fro'))\n",
    "w, v = np.linalg.eig(m)\n",
    "print(u\"собственные числа = \", w)\n",
    "print(u\"обратная матрица = \", np.linalg.inv(m))"
   ]
  },
  {
   "cell_type": "markdown",
   "metadata": {},
   "source": [
    "## Часть 3: Pandas"
   ]
  },
  {
   "cell_type": "markdown",
   "metadata": {},
   "source": [
    "#### Ответьте на вопросы о данных по авиарейсам в США за январь-апрель 2008 года.\n",
    "\n",
    "Данные: http://stat-computing.org/dataexpo/2009/2008.csv.bz2\n",
    "(обратите внимание, что распаковывать этот файл не обязательно — функция `pandas.read_csv` умеет читать из архивов автоматически)\n",
    "\n",
    "Описание: http://stat-computing.org/dataexpo/2009/the-data.html\n",
    "\n",
    "1. Какая из причин отмены рейса (`CancellationCode`) была самой частой? (расшифровки кодов можно найти в описании данных)\n",
    "2. Найдите среднее, минимальное и максимальное расстояние, пройденное самолетом.\n",
    "3. Не выглядит ли подозрительным минимальное пройденное расстояние? В какие дни и на каких рейсах оно было? Какое расстояние было пройдено этими же рейсами в другие дни?\n",
    "4. Из какого аэропорта было произведено больше всего вылетов? В каком городе он находится?\n",
    "5. Найдите для каждого аэропорта среднее время полета (`AirTime`) по всем вылетевшим из него рейсам. Какой аэропорт имеет наибольшее значение этого показателя?\n",
    "6. Найдите аэропорт, у которого наибольшая доля задержанных (`DepDelay > 0`) рейсов. Исключите при этом из рассмотрения аэропорты, из которых было отправлено меньше 1000 рейсов (используйте функцию `filter` после `groupby`)."
   ]
  },
  {
   "cell_type": "code",
   "execution_count": 19,
   "metadata": {
    "collapsed": false
   },
   "outputs": [],
   "source": [
    "import pandas\n",
    "\n",
    "data = pandas.read_csv(\"2008.csv.bz2\") # http://stat-computing.org/dataexpo/2009/2008.csv.bz2"
   ]
  },
  {
   "cell_type": "markdown",
   "metadata": {},
   "source": [
    "##### 1 Какая из причин отмены рейса (`CancellationCode`) была самой частой? (расшифровки кодов можно найти в описании данных)\n",
    "\n",
    "reason for cancellation (A = carrier, B = weather, C = NAS, D = security)\n",
    "\n"
   ]
  },
  {
   "cell_type": "code",
   "execution_count": 20,
   "metadata": {
    "collapsed": false
   },
   "outputs": [
    {
     "data": {
      "text/plain": [
       "'B'"
      ]
     },
     "execution_count": 20,
     "metadata": {},
     "output_type": "execute_result"
    }
   ],
   "source": [
    "data['CancellationCode'].value_counts().keys()[0]"
   ]
  },
  {
   "cell_type": "markdown",
   "metadata": {},
   "source": [
    "##### 2 Найдите среднее, минимальное и максимальное расстояние, пройденное самолетом.\n"
   ]
  },
  {
   "cell_type": "code",
   "execution_count": 21,
   "metadata": {
    "collapsed": false
   },
   "outputs": [
    {
     "name": "stdout",
     "output_type": "stream",
     "text": [
      "726.387029425 11 4962\n"
     ]
    }
   ],
   "source": [
    "distance = data['Distance']\n",
    "mean_dist = np.mean(distance)\n",
    "min_dist = np.amin(distance)\n",
    "max_dist = np.amax(distance)\n",
    "print(mean_dist, min_dist, max_dist)"
   ]
  },
  {
   "cell_type": "markdown",
   "metadata": {},
   "source": [
    "##### 3. Не выглядит ли подозрительным минимальное пройденное расстояние? В какие дни и на каких рейсах оно было? Какое расстояние было пройдено этими же рейсами в другие дни?\n",
    "\n",
    "Коллеги, обратите внимание на третий пункт задания по Pandas. Там в том числе нужно посчитать расстояние, пройденное этими же рейсами в другие дни. Рейс характеризуется двумя величинами: номером и кодом авиакомпании. Например, SU9 — это рейс Аэрофлота номер 9, который летит из Питера в Москву. Совпадения по номеру недостаточно. Так, рейс AA9 — это рейс American Airlines номер 9 из Нью-Йорка в Сан-Франциско.\n",
    "\n",
    "Тем, кто уже прислал мне решение, но у кого я еще не проверил — пожалуйста, сэкономьте мое время, проверьте у себя этот пункт и пришлите исправленную версию, если там есть ошибка."
   ]
  },
  {
   "cell_type": "markdown",
   "metadata": {},
   "source": []
  },
  {
   "cell_type": "code",
   "execution_count": 22,
   "metadata": {
    "collapsed": false
   },
   "outputs": [
    {
     "name": "stdout",
     "output_type": "stream",
     "text": [
      "15.5.2008 - OH4988\n",
      "В какие месяца:\n",
      " [1, 2, 3, 4, 5]\n",
      "На какие расстояния:\n",
      " [96, 834]\n",
      "\n",
      "\n",
      "10.8.2008 - OH5572\n",
      "В какие месяца:\n",
      " [1, 2, 3, 4, 5, 6, 7, 8]\n",
      "На какие расстояния:\n",
      " [544]\n",
      "\n",
      "\n"
     ]
    }
   ],
   "source": [
    "data_with_min_dist = data.loc[data['Distance'] == min_dist]\n",
    "for index, row in data_with_min_dist.iterrows():\n",
    "    print(\"%s.%s.%s - %s%s\" % (row['DayofMonth'],\n",
    "                               row['Month'],\n",
    "                               row['Year'],\n",
    "                               row['UniqueCarrier'],\n",
    "                               row['FlightNum']))\n",
    "\n",
    "    flight_data = data.loc[(data['UniqueCarrier'] == row['UniqueCarrier']) & \n",
    "                           (data['FlightNum'] == row['FlightNum'])]\n",
    "    \n",
    "    flight_data = flight_data.loc[flight_data['Distance'] != min_dist]\n",
    "    \n",
    "    print(\"В какие месяца:\\n\", sorted(flight_data['Month'].value_counts().keys()))\n",
    "    print(\"На какие расстояния:\\n\", sorted(flight_data['Distance'].value_counts().keys()))\n",
    "    print('\\n')"
   ]
  },
  {
   "cell_type": "markdown",
   "metadata": {},
   "source": [
    "##### 4. Из какого аэропорта было произведено больше всего вылетов? В каком городе он находится?\n"
   ]
  },
  {
   "cell_type": "code",
   "execution_count": 23,
   "metadata": {
    "collapsed": false
   },
   "outputs": [
    {
     "name": "stdout",
     "output_type": "stream",
     "text": [
      "ATL\n",
      "William B Hartsfield-Atlanta Intl\n"
     ]
    }
   ],
   "source": [
    "airports = pandas.read_csv(\"airports.csv\") # http://stat-computing.org/dataexpo/2009/airports.csv\n",
    "\n",
    "def get_airport_name(iata):\n",
    "    airport = airports.loc[airports['iata'] == iata]\n",
    "    return airport['airport'].values[0]\n",
    "\n",
    "iata_of_most_loaded_airport = data['Origin'].value_counts().keys()[0]\n",
    "print(iata_of_most_loaded_airport)\n",
    "\n",
    "print(get_airport_name(iata_of_most_loaded_airport))"
   ]
  },
  {
   "cell_type": "markdown",
   "metadata": {},
   "source": [
    "##### 5. Найдите для каждого аэропорта среднее время полета (`AirTime`) по всем вылетевшим из него рейсам. Какой аэропорт имеет наибольшее значение этого показателя?\n"
   ]
  },
  {
   "cell_type": "code",
   "execution_count": 24,
   "metadata": {
    "collapsed": false
   },
   "outputs": [
    {
     "name": "stdout",
     "output_type": "stream",
     "text": [
      "SJU\n",
      "Luis Munoz Marin International\n"
     ]
    }
   ],
   "source": [
    "g = data.groupby(['Origin'])\n",
    "means = g['AirTime'].mean().order(ascending=False)\n",
    "iata = (means).index.values[0]\n",
    "print(iata)\n",
    "print(get_airport_name(iata))"
   ]
  },
  {
   "cell_type": "markdown",
   "metadata": {},
   "source": [
    "##### 6. Найдите аэропорт, у которого наибольшая доля задержанных (`DepDelay > 0`) рейсов. Исключите при этом из рассмотрения аэропорты, из которых было отправлено меньше 1000 рейсов (используйте функцию `filter` после `groupby`)."
   ]
  },
  {
   "cell_type": "code",
   "execution_count": 25,
   "metadata": {
    "collapsed": false
   },
   "outputs": [],
   "source": [
    "data['DepDelayBin'] = data['DepDelay'] > 0\n",
    "\n",
    "groups_by_origin = data.groupby('Origin').filter(lambda x: len(x) > 1000)\n",
    "groups_by_origin = groups_by_origin.groupby('Origin')\n",
    "sum_of_delayed_flights = groups_by_origin['DepDelayBin'].mean()"
   ]
  },
  {
   "cell_type": "code",
   "execution_count": 26,
   "metadata": {
    "collapsed": false
   },
   "outputs": [
    {
     "name": "stdout",
     "output_type": "stream",
     "text": [
      "DAL\n",
      "Dallas Love \n"
     ]
    }
   ],
   "source": [
    "iata = (sum_of_delayed_flights.order(ascending=False).iloc[[0]]).index.values[0]\n",
    "print(iata)\n",
    "print(get_airport_name(iata))"
   ]
  },
  {
   "cell_type": "code",
   "execution_count": null,
   "metadata": {
    "collapsed": true
   },
   "outputs": [],
   "source": []
  }
 ],
 "metadata": {
  "kernelspec": {
   "display_name": "Python 3",
   "language": "python",
   "name": "python3"
  },
  "language_info": {
   "codemirror_mode": {
    "name": "ipython",
    "version": 3
   },
   "file_extension": ".py",
   "mimetype": "text/x-python",
   "name": "python",
   "nbconvert_exporter": "python",
   "pygments_lexer": "ipython3",
   "version": "3.5.0"
  }
 },
 "nbformat": 4,
 "nbformat_minor": 0
}
