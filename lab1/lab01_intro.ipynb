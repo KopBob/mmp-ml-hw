{
 "cells": [
  {
   "cell_type": "markdown",
   "metadata": {},
   "source": [
    "# Лабораторная работа 1. Язык Python, основные библиотеки для анализа данных."
   ]
  },
  {
   "cell_type": "markdown",
   "metadata": {},
   "source": [
    "ФИО: Копин Борис Александрович\n",
    "\n",
    "Группа: "
   ]
  },
  {
   "cell_type": "code",
   "execution_count": 76,
   "metadata": {
    "collapsed": true
   },
   "outputs": [],
   "source": [
    "import numpy as np\n",
    "import pandas as pd\n",
    "from functools import reduce"
   ]
  },
  {
   "cell_type": "markdown",
   "metadata": {},
   "source": [
    "## Часть 1: Python"
   ]
  },
  {
   "cell_type": "markdown",
   "metadata": {},
   "source": [
    "#### 1. Напишите код, который сформирует список всех натуральных чисел, не превосходящих 100, которые делятся на 7 и не делятся на 5. Нельзя использовать циклы — выполните это задание с помощью list comprehension."
   ]
  },
  {
   "cell_type": "code",
   "execution_count": 77,
   "metadata": {
    "collapsed": false
   },
   "outputs": [
    {
     "data": {
      "text/plain": [
       "[7, 14, 21, 28, 42, 49, 56, 63, 77, 84, 91, 98]"
      ]
     },
     "execution_count": 77,
     "metadata": {},
     "output_type": "execute_result"
    }
   ],
   "source": [
    "[x for x in range(1, 101) if (x%7==0) and (x%5!=0)]"
   ]
  },
  {
   "cell_type": "markdown",
   "metadata": {},
   "source": [
    "#### 2. Напишите функцию `sort_tokens(s)`, которая принимает на вход строку, разделяет ее на токены по запятым, сортирует токены с помощью функции `sorted()` и снова соединяет их в одну строку через запятые. Например, для строки `u\"ночь,фонарь,улица\"` функция должна выдать `u\"ночь,улица,фонарь\"`. Придумайте несколько входных строк и протестируйте функцию на них."
   ]
  },
  {
   "cell_type": "markdown",
   "metadata": {},
   "source": [
    "Обратите внимание, что склеить строки можно с помощью конструкции `'x'.join(...)`. Например:"
   ]
  },
  {
   "cell_type": "code",
   "execution_count": 78,
   "metadata": {
    "collapsed": false
   },
   "outputs": [
    {
     "data": {
      "text/plain": [
       "'i! am! very! excited! :-)'"
      ]
     },
     "execution_count": 78,
     "metadata": {},
     "output_type": "execute_result"
    }
   ],
   "source": [
    "'! '.join(['i', 'am', 'very', 'excited', ':-)'])"
   ]
  },
  {
   "cell_type": "code",
   "execution_count": 79,
   "metadata": {
    "collapsed": false
   },
   "outputs": [
    {
     "name": "stdout",
     "output_type": "stream",
     "text": [
      "ночь,улица,фонарь\n"
     ]
    }
   ],
   "source": [
    "def sort_tokens(s):\n",
    "    words = s.split(',')\n",
    "    words = sorted(words)\n",
    "    return ','.join(words)\n",
    "\n",
    "str = u\"ночь,фонарь,улица\"\n",
    "print(sort_tokens(str))"
   ]
  },
  {
   "cell_type": "markdown",
   "metadata": {},
   "source": [
    "#### 3. Напишите функцию `remove_duplicates(a)`, которая принимает на вход список и возвращает его же, но без дубликатов и в отсортированном виде. Например, для списка `[u\"ночь\", u\"улица\", u\"фонарь\", u\"аптека\", u\"аптека\", u\"улица\", u\"фонарь\"]` результат должен быть `[u\"аптека\", u\"ночь\", u\"улица\", u\"фонарь\", ]`."
   ]
  },
  {
   "cell_type": "markdown",
   "metadata": {},
   "source": [
    "Подсказка: обратите внимание на структуру `set`!"
   ]
  },
  {
   "cell_type": "code",
   "execution_count": 80,
   "metadata": {
    "collapsed": false
   },
   "outputs": [
    {
     "name": "stdout",
     "output_type": "stream",
     "text": [
      "{'улица', 'аптека', 'фонарь', 'ночь'}\n"
     ]
    }
   ],
   "source": [
    "def remove_duplicates(a):\n",
    "    return set(a)\n",
    "array = [u\"ночь\", u\"улица\", u\"фонарь\", u\"аптека\", u\"аптека\", u\"улица\", u\"фонарь\"]\n",
    "print(remove_duplicates(array))"
   ]
  },
  {
   "cell_type": "markdown",
   "metadata": {},
   "source": [
    "#### 4. Напишите функцию `word_counts(texts)`, которая принимает на вход список строк, и печатает пары (слово, число вхождений). Считайте, что слова в текстах могут быть разделены только пробелами. Например, для входа `[u'ночь улица фонарь аптека', u'аптека улица фонарь']` должно быть напечатано\n",
    ">аптека 2\n",
    "\n",
    ">улица 2\n",
    "\n",
    ">фонарь 2\n",
    "\n",
    ">ночь 1"
   ]
  },
  {
   "cell_type": "markdown",
   "metadata": {},
   "source": [
    "Подсказки:\n",
    "\n",
    "Чтобы разбить каждый из текстов на слова, воспользуйтесь функцией `map`, которая применяет заданную функцию к каждому элементу списка. Например, если бы нужно было каждый из текстов привести к нижнему регистру, то команда выглядела бы так:"
   ]
  },
  {
   "cell_type": "code",
   "execution_count": 81,
   "metadata": {
    "collapsed": false
   },
   "outputs": [
    {
     "data": {
      "text/plain": [
       "['abcdefg', 'hijkl']"
      ]
     },
     "execution_count": 81,
     "metadata": {},
     "output_type": "execute_result"
    }
   ],
   "source": [
    "list(map(lambda x: x.lower(), [\"abCDefg\", \"HIjkL\"]))"
   ]
  },
  {
   "cell_type": "markdown",
   "metadata": {},
   "source": [
    "После первого шага вы получите список, состоящий из списков слов. Чтобы объединить их в один список слов, воспользуйтесь функцией `reduce`. Например, просуммировать числа из списка с ее помощью можно так:\n",
    "\n"
   ]
  },
  {
   "cell_type": "code",
   "execution_count": 82,
   "metadata": {
    "collapsed": false
   },
   "outputs": [
    {
     "data": {
      "text/plain": [
       "15"
      ]
     },
     "execution_count": 82,
     "metadata": {},
     "output_type": "execute_result"
    }
   ],
   "source": [
    "reduce(lambda x, y: x + y, [1, 2, 3, 4, 5])"
   ]
  },
  {
   "cell_type": "markdown",
   "metadata": {},
   "source": [
    "Для подсчета количества вхождений слов воспользуйтесь структурой `defaultdict` из модуля `collections`. В отличие от обычного `dict`, она не генерирует ошибку при обращении к несуществущему ключу, а создает новую запись, инициализируемую нулевым значением. Например:"
   ]
  },
  {
   "cell_type": "code",
   "execution_count": 83,
   "metadata": {
    "collapsed": false
   },
   "outputs": [
    {
     "name": "stdout",
     "output_type": "stream",
     "text": [
      "defaultdict(<class 'int'>, {})\n",
      "defaultdict(<class 'int'>, {'abc': 1})\n",
      "defaultdict(<class 'int'>, {'abc': 1, 'xxx': 0})\n"
     ]
    }
   ],
   "source": [
    "from collections import defaultdict\n",
    "d = defaultdict(int)\n",
    "print(d)\n",
    "d['abc'] += 1\n",
    "print(d)\n",
    "d['xxx']\n",
    "print(d)"
   ]
  },
  {
   "cell_type": "code",
   "execution_count": 84,
   "metadata": {
    "collapsed": false
   },
   "outputs": [
    {
     "name": "stdout",
     "output_type": "stream",
     "text": [
      "defaultdict(<class 'int'>, {'улица': 2, 'аптека': 2, 'фонарь': 2, 'ночь': 1})\n"
     ]
    }
   ],
   "source": [
    "def word_counts(texts):\n",
    "    bag = defaultdict(int)\n",
    "    \n",
    "    splited = map(lambda x: x.split(' '), texts)\n",
    "    reduced = reduce(lambda x, y: x + y, splited)\n",
    "    \n",
    "    for word in reduced:\n",
    "        bag[word]+=1\n",
    "        \n",
    "    return bag\n",
    "\n",
    "str = [u'ночь улица фонарь аптека', u'аптека улица фонарь']\n",
    "print(word_counts(str))"
   ]
  },
  {
   "cell_type": "markdown",
   "metadata": {},
   "source": [
    "#### 5. (бонусное задание) Скачайте английский перевод \"Преступления и наказания\". Найдите 20 самых популярных слов и 20 слов, которые встречаются только один раз."
   ]
  },
  {
   "cell_type": "markdown",
   "metadata": {},
   "source": [
    "Приведите текст к нижнему регистру. Разделите текст на слова, считая разделителями все, кроме букв. Обратите внимание на функцию `split` из модуля `re`.\n",
    "\n",
    "Не забудьте удалить пустые слова:\n",
    "```\n",
    "words = filter(lambda x: len(x) > 0, words)\n",
    "```"
   ]
  },
  {
   "cell_type": "code",
   "execution_count": 85,
   "metadata": {
    "collapsed": false
   },
   "outputs": [],
   "source": [
    "from urllib.request import urlopen\n",
    "url = \"http://www.gutenberg.org/files/2554/2554.txt\"\n",
    "response = urlopen(url)\n",
    "raw_text = response.read().decode('utf8')"
   ]
  },
  {
   "cell_type": "code",
   "execution_count": 86,
   "metadata": {
    "collapsed": false
   },
   "outputs": [
    {
     "data": {
      "text/plain": [
       "'r five\\r\\nchildren in only two rooms. The father and mother spent their evenings\\r\\nin reading aloud to '"
      ]
     },
     "execution_count": 86,
     "metadata": {},
     "output_type": "execute_result"
    }
   ],
   "source": [
    "raw_text[1000:1100]"
   ]
  },
  {
   "cell_type": "code",
   "execution_count": 87,
   "metadata": {
    "collapsed": false
   },
   "outputs": [
    {
     "name": "stdout",
     "output_type": "stream",
     "text": [
      "[('the', 7995), ('and', 7042), ('to', 5493), ('he', 4892), ('a', 4665), ('i', 4402), ('you', 4114), ('of', 3926), ('it', 3460), ('that', 3294), ('in', 3250), ('was', 2826), ('his', 2114), ('at', 2082), ('her', 1828), ('but', 1801), ('not', 1774), ('s', 1765), ('with', 1757), ('she', 1692)]\n",
      "[('piping', 1), ('undergoing', 1), ('adornment', 1), ('threes', 1), ('mourners', 1), ('livingstone', 1), ('legitimate', 1), ('posed', 1), ('proofread', 1), ('inartistic', 1), ('recognition', 1), ('chinks', 1), ('superficially', 1), ('keyhole', 1), ('outlet', 1), ('abortions', 1), ('misgivings', 1), ('barrows', 1), ('gambrinus', 1), ('boldness', 1)]\n"
     ]
    }
   ],
   "source": [
    "import string\n",
    "import re\n",
    "import operator\n",
    "\n",
    "raw_text = raw_text.lower()\n",
    "delimiters = set(raw_text) - set(string.ascii_lowercase)\n",
    "\n",
    "words = re.split('\\W+', raw_text)\n",
    "words = filter(lambda x: len(x) > 0, words)\n",
    "\n",
    "counted_words = word_counts([\" \".join(words)])\n",
    "sorted_words = sorted(counted_words.items(), key=operator.itemgetter(1), reverse=True)\n",
    "\n",
    "twenty_of_most_popular_words = sorted_words[:20]\n",
    "twenty_of_once_occured_words = [x for x in sorted_words if x[1] == 1][:20]\n",
    "\n",
    "print(twenty_of_most_popular_words)\n",
    "print(twenty_of_once_occured_words)"
   ]
  },
  {
   "cell_type": "markdown",
   "metadata": {},
   "source": [
    "## Часть 2: NumPy и SciPy"
   ]
  },
  {
   "cell_type": "markdown",
   "metadata": {},
   "source": [
    "#### 1. Повторите 1000 раз следующий эксперимент: сгенерируйте две матрицы размера $10 \\times 10$ из стандартного нормального распределения, перемножьте их (как матрицы) и найдите максимальный элемент. Какое среднее значение по экспериментам у максимальных элементов? 95-процентная квантиль?"
   ]
  },
  {
   "cell_type": "markdown",
   "metadata": {},
   "source": [
    "Для вычисления квантили воспользуйтесь функцией `np.percentile`"
   ]
  },
  {
   "cell_type": "code",
   "execution_count": 88,
   "metadata": {
    "collapsed": false
   },
   "outputs": [
    {
     "name": "stdout",
     "output_type": "stream",
     "text": [
      "8.45238253829\n",
      "11.9015806231\n"
     ]
    }
   ],
   "source": [
    "iterations = 1000\n",
    "alpha = 95\n",
    "\n",
    "maximums = []\n",
    "for x in range(iterations):\n",
    "    matrix1 = np.random.standard_normal(size=(10,10))\n",
    "    matrix2 = np.random.standard_normal(size=(10,10))\n",
    "    maximums.append(np.max(np.dot(matrix1, matrix2)))\n",
    "    \n",
    "print(np.mean(maximums))\n",
    "print(np.percentile(maximums, alpha))"
   ]
  },
  {
   "cell_type": "markdown",
   "metadata": {},
   "source": [
    "#### 2. Сгенерируйте 1000 чисел из распределения Пуассона с параметром $\\lambda = 5$. Сформируйте массив, в котором в i-м элементе будет записано количество сгенерированных чисел, равных i."
   ]
  },
  {
   "cell_type": "markdown",
   "metadata": {},
   "source": [
    "Обратите внимание на функцию `np.bincount`"
   ]
  },
  {
   "cell_type": "code",
   "execution_count": 89,
   "metadata": {
    "collapsed": false
   },
   "outputs": [
    {
     "name": "stdout",
     "output_type": "stream",
     "text": [
      "[(0, 7), (1, 33), (2, 78), (3, 137), (4, 164), (5, 203), (6, 150), (7, 101), (8, 68), (9, 26), (10, 25), (11, 6), (12, 1), (13, 1)]\n",
      "[  7  33  78 137 164 203 150 101  68  26  25   6   1   1]\n"
     ]
    }
   ],
   "source": [
    "n = np.random.poisson(5, 1000)\n",
    "\n",
    "counts = np.bincount(n)\n",
    "indexes = np.nonzero(counts)[0]\n",
    "bag = list(zip(range(counts.size), counts))\n",
    "\n",
    "print(bag)\n",
    "print(counts)\n"
   ]
  },
  {
   "cell_type": "markdown",
   "metadata": {},
   "source": [
    "#### 3. Реализуйте функцию, которая принимает на вход numpy-массив целых чисел `a`, и генерирует массив, в котором число `i` встречается `a[i]` раз. Протестируйте на результате из прошлого задания."
   ]
  },
  {
   "cell_type": "markdown",
   "metadata": {},
   "source": [
    "Обратите внимание на функцию `np.repeat`"
   ]
  },
  {
   "cell_type": "code",
   "execution_count": 90,
   "metadata": {
    "collapsed": false
   },
   "outputs": [
    {
     "name": "stdout",
     "output_type": "stream",
     "text": [
      "[ 0  0  0  0  0  0  0  1  1  1  1  1  1  1  1  1  1  1  1  1  1  1  1  1  1\n",
      "  1  1  1  1  1  1  1  1  1  1  1  1  1  1  1  2  2  2  2  2  2  2  2  2  2\n",
      "  2  2  2  2  2  2  2  2  2  2  2  2  2  2  2  2  2  2  2  2  2  2  2  2  2\n",
      "  2  2  2  2  2  2  2  2  2  2  2  2  2  2  2  2  2  2  2  2  2  2  2  2  2\n",
      "  2  2  2  2  2  2  2  2  2  2  2  2  2  2  2  2  2  2  3  3  3  3  3  3  3\n",
      "  3  3  3  3  3  3  3  3  3  3  3  3  3  3  3  3  3  3  3  3  3  3  3  3  3\n",
      "  3  3  3  3  3  3  3  3  3  3  3  3  3  3  3  3  3  3  3  3  3  3  3  3  3\n",
      "  3  3  3  3  3  3  3  3  3  3  3  3  3  3  3  3  3  3  3  3  3  3  3  3  3\n",
      "  3  3  3  3  3  3  3  3  3  3  3  3  3  3  3  3  3  3  3  3  3  3  3  3  3\n",
      "  3  3  3  3  3  3  3  3  3  3  3  3  3  3  3  3  3  3  3  3  3  3  3  3  3\n",
      "  3  3  3  3  3  4  4  4  4  4  4  4  4  4  4  4  4  4  4  4  4  4  4  4  4\n",
      "  4  4  4  4  4  4  4  4  4  4  4  4  4  4  4  4  4  4  4  4  4  4  4  4  4\n",
      "  4  4  4  4  4  4  4  4  4  4  4  4  4  4  4  4  4  4  4  4  4  4  4  4  4\n",
      "  4  4  4  4  4  4  4  4  4  4  4  4  4  4  4  4  4  4  4  4  4  4  4  4  4\n",
      "  4  4  4  4  4  4  4  4  4  4  4  4  4  4  4  4  4  4  4  4  4  4  4  4  4\n",
      "  4  4  4  4  4  4  4  4  4  4  4  4  4  4  4  4  4  4  4  4  4  4  4  4  4\n",
      "  4  4  4  4  4  4  4  4  4  4  4  4  4  4  4  4  4  4  4  5  5  5  5  5  5\n",
      "  5  5  5  5  5  5  5  5  5  5  5  5  5  5  5  5  5  5  5  5  5  5  5  5  5\n",
      "  5  5  5  5  5  5  5  5  5  5  5  5  5  5  5  5  5  5  5  5  5  5  5  5  5\n",
      "  5  5  5  5  5  5  5  5  5  5  5  5  5  5  5  5  5  5  5  5  5  5  5  5  5\n",
      "  5  5  5  5  5  5  5  5  5  5  5  5  5  5  5  5  5  5  5  5  5  5  5  5  5\n",
      "  5  5  5  5  5  5  5  5  5  5  5  5  5  5  5  5  5  5  5  5  5  5  5  5  5\n",
      "  5  5  5  5  5  5  5  5  5  5  5  5  5  5  5  5  5  5  5  5  5  5  5  5  5\n",
      "  5  5  5  5  5  5  5  5  5  5  5  5  5  5  5  5  5  5  5  5  5  5  5  5  5\n",
      "  5  5  5  5  5  5  5  5  5  5  5  5  5  5  5  5  5  5  5  5  5  5  6  6  6\n",
      "  6  6  6  6  6  6  6  6  6  6  6  6  6  6  6  6  6  6  6  6  6  6  6  6  6\n",
      "  6  6  6  6  6  6  6  6  6  6  6  6  6  6  6  6  6  6  6  6  6  6  6  6  6\n",
      "  6  6  6  6  6  6  6  6  6  6  6  6  6  6  6  6  6  6  6  6  6  6  6  6  6\n",
      "  6  6  6  6  6  6  6  6  6  6  6  6  6  6  6  6  6  6  6  6  6  6  6  6  6\n",
      "  6  6  6  6  6  6  6  6  6  6  6  6  6  6  6  6  6  6  6  6  6  6  6  6  6\n",
      "  6  6  6  6  6  6  6  6  6  6  6  6  6  6  6  6  6  6  6  6  6  6  7  7  7\n",
      "  7  7  7  7  7  7  7  7  7  7  7  7  7  7  7  7  7  7  7  7  7  7  7  7  7\n",
      "  7  7  7  7  7  7  7  7  7  7  7  7  7  7  7  7  7  7  7  7  7  7  7  7  7\n",
      "  7  7  7  7  7  7  7  7  7  7  7  7  7  7  7  7  7  7  7  7  7  7  7  7  7\n",
      "  7  7  7  7  7  7  7  7  7  7  7  7  7  7  7  7  7  7  7  7  7  7  7  8  8\n",
      "  8  8  8  8  8  8  8  8  8  8  8  8  8  8  8  8  8  8  8  8  8  8  8  8  8\n",
      "  8  8  8  8  8  8  8  8  8  8  8  8  8  8  8  8  8  8  8  8  8  8  8  8  8\n",
      "  8  8  8  8  8  8  8  8  8  8  8  8  8  8  8  8  9  9  9  9  9  9  9  9  9\n",
      "  9  9  9  9  9  9  9  9  9  9  9  9  9  9  9  9  9 10 10 10 10 10 10 10 10\n",
      " 10 10 10 10 10 10 10 10 10 10 10 10 10 10 10 10 10 11 11 11 11 11 11 12 13]\n"
     ]
    }
   ],
   "source": [
    "def repeater(a):\n",
    "    return np.repeat(range(len(a)), a)\n",
    "\n",
    "print(repeater(counts))"
   ]
  },
  {
   "cell_type": "markdown",
   "metadata": {},
   "source": [
    "#### 4. Напишите функцию `scale(X)`, которая принимает на вход матрицу и масштабирует каждый ее столбец (вычитает среднее и делит на стандартное отклонение). Убедитесь, что в функции не будет происходить деления на ноль. Протестируйте на каких-нибудь данных."
   ]
  },
  {
   "cell_type": "code",
   "execution_count": 91,
   "metadata": {
    "collapsed": false
   },
   "outputs": [
    {
     "name": "stdout",
     "output_type": "stream",
     "text": [
      "[[69 66 73 70 76 69 73 79 70 75]\n",
      " [62 72 65 71 66 68 74 63 64 66]\n",
      " [66 71 76 71 73 67 61 68 75 73]\n",
      " [75 75 66 74 66 81 72 69 70 69]\n",
      " [79 63 70 72 70 68 72 61 73 71]\n",
      " [67 77 66 81 72 73 64 66 63 72]\n",
      " [68 71 72 65 71 69 73 73 73 67]\n",
      " [64 66 71 69 73 77 67 71 69 72]\n",
      " [68 74 67 73 77 70 65 67 67 66]\n",
      " [65 64 61 71 71 66 76 71 72 70]]\n",
      "[[ 0.1440622  -0.47334723  0.96727478  0.34986535  1.58468421  0.1440622\n",
      "   0.96727478  2.20209365  0.34986535  1.37888107]\n",
      " [-1.71213995  0.45512581 -1.06196022  0.23839923 -0.84523365 -0.41178049\n",
      "   0.88857896 -1.49541337 -1.2786868  -0.84523365]\n",
      " [-0.6362194   0.54196467  1.72014875  0.54196467  1.0132383  -0.40058259\n",
      "  -1.81440347 -0.16494577  1.48451193  1.0132383 ]\n",
      " [ 0.85177246  0.85177246 -1.47124334  0.59365959 -1.47124334  2.40044966\n",
      "   0.07743386 -0.69690474 -0.43879187 -0.69690474]\n",
      " [ 2.17872335 -2.4692198  -0.43574467  0.14524822 -0.43574467 -1.01673756\n",
      "   0.14524822 -3.05021269  0.43574467 -0.14524822]\n",
      " [-0.83400743  1.36074897 -1.05348308  2.23865153  0.26337077  0.48284641\n",
      "  -1.49243436 -1.05348308 -1.71191     0.26337077]\n",
      " [-0.35594777  0.27219535  0.4815764  -0.9840909   0.27219535 -0.14656673\n",
      "   0.69095744  0.69095744  0.69095744 -0.56532881]\n",
      " [-0.98473193 -0.57442696  0.45133547  0.0410305   0.86164044  1.68225038\n",
      "  -0.36927447  0.45133547  0.0410305   0.65648795]\n",
      " [-0.42700841  1.17427313 -0.69388867  0.90739287  1.9749139   0.1067521\n",
      "  -1.22764918 -0.69388867 -0.69388867 -0.96076892]\n",
      " [-1.75031547 -2.09351458 -3.12311191  0.3088792   0.3088792  -1.40711636\n",
      "   2.02487476  0.3088792   0.65207831 -0.03431991]]\n"
     ]
    }
   ],
   "source": [
    "def scale(x):\n",
    "    mean_vect = np.mean(x, axis=0)\n",
    "    std_vect = np.std(x, axis=0)\n",
    "    return ((x.T - mean_vect) / std_vect).T\n",
    "\n",
    "myarr = np.random.binomial(100, 0.7, size=(10, 10))\n",
    "\n",
    "print(myarr)\n",
    "myarr = scale(myarr)\n",
    "print(myarr)\n"
   ]
  },
  {
   "cell_type": "markdown",
   "metadata": {},
   "source": [
    "#### 5. Сгенерируйте матрицу с элементами из нормального распределения $\\mathcal{N}(10, 1)$. Найдите ее:\n",
    "- определитель\n",
    "- след\n",
    "- наименьший и наибольший элементы\n",
    "- спектральную норму\n",
    "- норму Фробениуса\n",
    "- собственные числа\n",
    "- обратную матрицу"
   ]
  },
  {
   "cell_type": "code",
   "execution_count": 92,
   "metadata": {
    "collapsed": false,
    "scrolled": true
   },
   "outputs": [
    {
     "name": "stdout",
     "output_type": "stream",
     "text": [
      "определитель =  14592.9555831\n",
      "след =  99.7688090907\n",
      "наименьший и наибольший элемент =  7.44916006786 12.2945592635\n",
      "спектральная норма =  100.653325509\n",
      "норма Фробениуса =  101.071151632\n",
      "собственные числа =  [ 100.61998337+0.j            0.91025154+2.50775416j\n",
      "    0.91025154-2.50775416j    1.52523235+0.j            1.26055792+0.95977125j\n",
      "    1.26055792-0.95977125j   -2.31248415+0.77035429j\n",
      "   -2.31248415-0.77035429j   -0.60002384+0.j           -1.49303341+0.j        ]\n",
      "обратная матрица =  [[ 0.57375599 -0.31200366 -0.23424536 -0.0859683   0.02538316 -0.21156987\n",
      "   0.03352646  0.18999817  0.06660301 -0.0243757 ]\n",
      " [-0.0893712   0.65391816 -0.07769867 -0.95058749  0.25226127 -0.34378446\n",
      "  -0.16742699  0.33847291  0.18751348  0.25891875]\n",
      " [-0.75843689 -0.32351199 -0.61334761  1.46696751 -0.25331074  0.98218203\n",
      "   0.1041704   0.04122848 -0.14043444 -0.56901772]\n",
      " [ 0.45177366  0.52643154  0.3994386  -1.39646246  0.57065398 -0.75436946\n",
      "  -0.09315987  0.03964899 -0.05321603  0.40403404]\n",
      " [-0.89394086 -0.5790463  -0.63134989  1.99884032 -0.49695213  1.31068608\n",
      "  -0.11674363  0.39625049 -0.30978368 -0.77929816]\n",
      " [-0.1356243  -1.02428815 -0.1194078   1.08160601 -0.27625305  0.49915487\n",
      "   0.16068559  0.27940641 -0.02547215 -0.50364401]\n",
      " [-0.34771122  0.0938733  -0.01668873  0.43287301 -0.04273965 -0.01909228\n",
      "  -0.04855691  0.12607909 -0.03389028 -0.15569775]\n",
      " [ 0.92757917  0.8843224   0.64168601 -2.18818436  0.36847586 -1.16802353\n",
      "   0.12997825 -0.46659721  0.23346109  0.76649952]\n",
      " [-0.23976952  0.02119213  0.04252866  0.09100178 -0.01126888  0.25506088\n",
      "   0.00978208 -0.17695696 -0.24868016  0.26652494]\n",
      " [ 0.48809409  0.08501487  0.63771907 -0.42874658 -0.1367291  -0.53932136\n",
      "  -0.01249685 -0.76799702  0.34137304  0.35463065]]\n"
     ]
    }
   ],
   "source": [
    "m = np.random.normal(10, 1, size=(10, 10))\n",
    "\n",
    "print(u\"определитель = \", np.linalg.det(m))\n",
    "print(u\"след = \", np.trace(m))\n",
    "print(u\"наименьший и наибольший элемент = \", np.amin(m), np.amax(m))\n",
    "print(u\"спектральная норма = \", np.linalg.norm(m, 2))\n",
    "print(u\"норма Фробениуса = \", np.linalg.norm(m, 'fro'))\n",
    "w, v = np.linalg.eig(m)\n",
    "print(u\"собственные числа = \", w)\n",
    "print(u\"обратная матрица = \", np.linalg.inv(m))"
   ]
  },
  {
   "cell_type": "markdown",
   "metadata": {},
   "source": [
    "## Часть 3: Pandas"
   ]
  },
  {
   "cell_type": "markdown",
   "metadata": {},
   "source": [
    "#### Ответьте на вопросы о данных по авиарейсам в США за январь-апрель 2008 года.\n",
    "\n",
    "Данные: http://stat-computing.org/dataexpo/2009/2008.csv.bz2\n",
    "(обратите внимание, что распаковывать этот файл не обязательно — функция `pandas.read_csv` умеет читать из архивов автоматически)\n",
    "\n",
    "Описание: http://stat-computing.org/dataexpo/2009/the-data.html\n",
    "\n",
    "1. Какая из причин отмены рейса (`CancellationCode`) была самой частой? (расшифровки кодов можно найти в описании данных)\n",
    "2. Найдите среднее, минимальное и максимальное расстояние, пройденное самолетом.\n",
    "3. Не выглядит ли подозрительным минимальное пройденное расстояние? В какие дни и на каких рейсах оно было? Какое расстояние было пройдено этими же рейсами в другие дни?\n",
    "4. Из какого аэропорта было произведено больше всего вылетов? В каком городе он находится?\n",
    "5. Найдите для каждого аэропорта среднее время полета (`AirTime`) по всем вылетевшим из него рейсам. Какой аэропорт имеет наибольшее значение этого показателя?\n",
    "6. Найдите аэропорт, у которого наибольшая доля задержанных (`DepDelay > 0`) рейсов. Исключите при этом из рассмотрения аэропорты, из которых было отправлено меньше 1000 рейсов (используйте функцию `filter` после `groupby`)."
   ]
  },
  {
   "cell_type": "code",
   "execution_count": 93,
   "metadata": {
    "collapsed": false
   },
   "outputs": [],
   "source": [
    "import pandas\n",
    "\n",
    "data = pandas.read_csv(\"2008.csv.bz2\") # http://stat-computing.org/dataexpo/2009/2008.csv.bz2"
   ]
  },
  {
   "cell_type": "markdown",
   "metadata": {},
   "source": [
    "##### 1 Какая из причин отмены рейса (`CancellationCode`) была самой частой? (расшифровки кодов можно найти в описании данных)\n",
    "\n",
    "reason for cancellation (A = carrier, B = weather, C = NAS, D = security)\n",
    "\n"
   ]
  },
  {
   "cell_type": "code",
   "execution_count": 94,
   "metadata": {
    "collapsed": false
   },
   "outputs": [
    {
     "data": {
      "text/plain": [
       "'B'"
      ]
     },
     "execution_count": 94,
     "metadata": {},
     "output_type": "execute_result"
    }
   ],
   "source": [
    "data['CancellationCode'].value_counts().keys()[0]"
   ]
  },
  {
   "cell_type": "markdown",
   "metadata": {},
   "source": [
    "##### 2 Найдите среднее, минимальное и максимальное расстояние, пройденное самолетом.\n"
   ]
  },
  {
   "cell_type": "code",
   "execution_count": 95,
   "metadata": {
    "collapsed": false
   },
   "outputs": [
    {
     "name": "stdout",
     "output_type": "stream",
     "text": [
      "726.387029425 11 4962\n"
     ]
    }
   ],
   "source": [
    "distance = data['Distance']\n",
    "mean_dist = np.mean(distance)\n",
    "min_dist = np.amin(distance)\n",
    "max_dist = np.amax(distance)\n",
    "print(mean_dist, min_dist, max_dist)"
   ]
  },
  {
   "cell_type": "markdown",
   "metadata": {},
   "source": [
    "##### 3. Не выглядит ли подозрительным минимальное пройденное расстояние? В какие дни и на каких рейсах оно было? Какое расстояние было пройдено этими же рейсами в другие дни?\n",
    "\n",
    "Коллеги, обратите внимание на третий пункт задания по Pandas. Там в том числе нужно посчитать расстояние, пройденное этими же рейсами в другие дни. Рейс характеризуется двумя величинами: номером и кодом авиакомпании. Например, SU9 — это рейс Аэрофлота номер 9, который летит из Питера в Москву. Совпадения по номеру недостаточно. Так, рейс AA9 — это рейс American Airlines номер 9 из Нью-Йорка в Сан-Франциско.\n",
    "\n",
    "Тем, кто уже прислал мне решение, но у кого я еще не проверил — пожалуйста, сэкономьте мое время, проверьте у себя этот пункт и пришлите исправленную версию, если там есть ошибка."
   ]
  },
  {
   "cell_type": "markdown",
   "metadata": {},
   "source": []
  },
  {
   "cell_type": "code",
   "execution_count": 102,
   "metadata": {
    "collapsed": false
   },
   "outputs": [
    {
     "name": "stdout",
     "output_type": "stream",
     "text": [
      "15.5.2008 - OH4988\n",
      "В какие месяца:\n",
      " [1, 2, 3, 4, 5]\n",
      "На какие расстояния:\n",
      " [96, 834]\n",
      "\n",
      "\n",
      "10.8.2008 - OH5572\n",
      "В какие месяца:\n",
      " [1, 2, 3, 4, 5, 6, 7, 8]\n",
      "На какие расстояния:\n",
      " [544]\n",
      "\n",
      "\n"
     ]
    }
   ],
   "source": [
    "data_with_min_dist = data.loc[data['Distance'] == min_dist]\n",
    "for index, row in data_with_min_dist.iterrows():\n",
    "    print(\"%s.%s.%s - %s%s\" % (row['DayofMonth'],\n",
    "                               row['Month'],\n",
    "                               row['Year'],\n",
    "                               row['UniqueCarrier'],\n",
    "                               row['FlightNum']))\n",
    "\n",
    "    flight_data = data.loc[(data['UniqueCarrier'] == row['UniqueCarrier']) & \n",
    "                           (data['FlightNum'] == row['FlightNum'])]\n",
    "    \n",
    "    flight_data = flight_data.loc[flight_data['Distance'] != min_dist]\n",
    "    \n",
    "    print(\"В какие месяца:\\n\", sorted(flight_data['Month'].value_counts().keys()))\n",
    "    print(\"На какие расстояния:\\n\", sorted(flight_data['Distance'].value_counts().keys()))\n",
    "    print('\\n')"
   ]
  },
  {
   "cell_type": "markdown",
   "metadata": {},
   "source": [
    "##### 4. Из какого аэропорта было произведено больше всего вылетов? В каком городе он находится?\n"
   ]
  },
  {
   "cell_type": "code",
   "execution_count": 97,
   "metadata": {
    "collapsed": false
   },
   "outputs": [
    {
     "name": "stdout",
     "output_type": "stream",
     "text": [
      "ATL\n",
      "William B Hartsfield-Atlanta Intl\n"
     ]
    }
   ],
   "source": [
    "airports = pandas.read_csv(\"airports.csv\") # http://stat-computing.org/dataexpo/2009/airports.csv\n",
    "\n",
    "def get_airport_name(iata):\n",
    "    airport = airports.loc[airports['iata'] == iata]\n",
    "    return airport['airport'].values[0]\n",
    "\n",
    "iata_of_most_loaded_airport = data['Origin'].value_counts().keys()[0]\n",
    "print(iata_of_most_loaded_airport)\n",
    "\n",
    "print(get_airport_name(iata_of_most_loaded_airport))"
   ]
  },
  {
   "cell_type": "markdown",
   "metadata": {},
   "source": [
    "##### 5. Найдите для каждого аэропорта среднее время полета (`AirTime`) по всем вылетевшим из него рейсам. Какой аэропорт имеет наибольшее значение этого показателя?\n"
   ]
  },
  {
   "cell_type": "code",
   "execution_count": 98,
   "metadata": {
    "collapsed": false
   },
   "outputs": [
    {
     "name": "stdout",
     "output_type": "stream",
     "text": [
      "SJU\n",
      "Luis Munoz Marin International\n"
     ]
    }
   ],
   "source": [
    "g = data.groupby(['Origin'])\n",
    "means = g['AirTime'].mean().order(ascending=False)\n",
    "iata = (means).index.values[0]\n",
    "print(iata)\n",
    "print(get_airport_name(iata))"
   ]
  },
  {
   "cell_type": "markdown",
   "metadata": {},
   "source": [
    "##### 6. Найдите аэропорт, у которого наибольшая доля задержанных (`DepDelay > 0`) рейсов. Исключите при этом из рассмотрения аэропорты, из которых было отправлено меньше 1000 рейсов (используйте функцию `filter` после `groupby`)."
   ]
  },
  {
   "cell_type": "code",
   "execution_count": 104,
   "metadata": {
    "collapsed": false
   },
   "outputs": [],
   "source": [
    "data['DepDelayBin'] = data['DepDelay'] > 0\n",
    "\n",
    "groups_by_origin = data.groupby('Origin').filter(lambda x: len(x) > 1000)\n",
    "groups_by_origin = groups_by_origin.groupby('Origin')\n",
    "sum_of_delayed_flights = groups_by_origin['DepDelayBin'].sum()"
   ]
  },
  {
   "cell_type": "code",
   "execution_count": 105,
   "metadata": {
    "collapsed": false
   },
   "outputs": [
    {
     "name": "stdout",
     "output_type": "stream",
     "text": [
      "ATL\n",
      "William B Hartsfield-Atlanta Intl\n"
     ]
    }
   ],
   "source": [
    "iata = (sum_of_delayed_flights.order(ascending=False).iloc[[0]]).index.values[0]\n",
    "print(iata)\n",
    "print(get_airport_name(iata))"
   ]
  }
 ],
 "metadata": {
  "kernelspec": {
   "display_name": "Python 3",
   "language": "python",
   "name": "python3"
  },
  "language_info": {
   "codemirror_mode": {
    "name": "ipython",
    "version": 3
   },
   "file_extension": ".py",
   "mimetype": "text/x-python",
   "name": "python",
   "nbconvert_exporter": "python",
   "pygments_lexer": "ipython3",
   "version": "3.5.0"
  }
 },
 "nbformat": 4,
 "nbformat_minor": 0
}
