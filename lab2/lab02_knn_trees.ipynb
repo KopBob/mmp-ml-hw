{
 "cells": [
  {
   "cell_type": "markdown",
   "metadata": {},
   "source": [
    "# Лабораторная работа 2. Метод ближайших соседей и решающие деревья."
   ]
  },
  {
   "cell_type": "markdown",
   "metadata": {},
   "source": [
    "ФИО: Копин Борис Александрович\n",
    "\n",
    "Группа: "
   ]
  },
  {
   "cell_type": "code",
   "execution_count": 338,
   "metadata": {
    "collapsed": false
   },
   "outputs": [
    {
     "name": "stdout",
     "output_type": "stream",
     "text": [
      "The autoreload extension is already loaded. To reload it, use:\n",
      "  %reload_ext autoreload\n"
     ]
    }
   ],
   "source": [
    "%load_ext autoreload\n",
    "%autoreload 2"
   ]
  },
  {
   "cell_type": "code",
   "execution_count": 339,
   "metadata": {
    "collapsed": true
   },
   "outputs": [],
   "source": [
    "import numpy as np\n",
    "import time\n",
    "import pandas as pd\n",
    "from sklearn import metrics\n",
    "from sklearn import neighbors\n",
    "from sklearn import metrics\n",
    "from sklearn import tree\n",
    "\n",
    "import matplotlib.pyplot as plt\n",
    "%matplotlib inline"
   ]
  },
  {
   "cell_type": "markdown",
   "metadata": {},
   "source": [
    "Все эксперименты в этой лабораторной работе предлагается проводить на данных соревнования Amazon Employee Access Challenge: https://www.kaggle.com/c/amazon-employee-access-challenge\n",
    "\n",
    "В данной задаче предлагается предсказать, будет ли одобрен запрос сотрудника на получение доступа к тому или иному ресурсу. Все признаки являются категориальными.\n",
    "\n",
    "Для удобства данные можно загрузить по ссылке: https://www.dropbox.com/s/q6fbs1vvhd5kvek/amazon.csv\n",
    "\n",
    "Сразу прочитаем данные и создадим разбиение на обучение и контроль:"
   ]
  },
  {
   "cell_type": "code",
   "execution_count": 340,
   "metadata": {
    "collapsed": false
   },
   "outputs": [
    {
     "data": {
      "text/html": [
       "<div>\n",
       "<table border=\"1\" class=\"dataframe\">\n",
       "  <thead>\n",
       "    <tr style=\"text-align: right;\">\n",
       "      <th></th>\n",
       "      <th>ACTION</th>\n",
       "      <th>RESOURCE</th>\n",
       "      <th>MGR_ID</th>\n",
       "      <th>ROLE_ROLLUP_1</th>\n",
       "      <th>ROLE_ROLLUP_2</th>\n",
       "      <th>ROLE_DEPTNAME</th>\n",
       "      <th>ROLE_TITLE</th>\n",
       "      <th>ROLE_FAMILY_DESC</th>\n",
       "      <th>ROLE_FAMILY</th>\n",
       "      <th>ROLE_CODE</th>\n",
       "    </tr>\n",
       "  </thead>\n",
       "  <tbody>\n",
       "    <tr>\n",
       "      <th>0</th>\n",
       "      <td>1</td>\n",
       "      <td>39353</td>\n",
       "      <td>85475</td>\n",
       "      <td>117961</td>\n",
       "      <td>118300</td>\n",
       "      <td>123472</td>\n",
       "      <td>117905</td>\n",
       "      <td>117906</td>\n",
       "      <td>290919</td>\n",
       "      <td>117908</td>\n",
       "    </tr>\n",
       "    <tr>\n",
       "      <th>1</th>\n",
       "      <td>1</td>\n",
       "      <td>17183</td>\n",
       "      <td>1540</td>\n",
       "      <td>117961</td>\n",
       "      <td>118343</td>\n",
       "      <td>123125</td>\n",
       "      <td>118536</td>\n",
       "      <td>118536</td>\n",
       "      <td>308574</td>\n",
       "      <td>118539</td>\n",
       "    </tr>\n",
       "    <tr>\n",
       "      <th>2</th>\n",
       "      <td>1</td>\n",
       "      <td>36724</td>\n",
       "      <td>14457</td>\n",
       "      <td>118219</td>\n",
       "      <td>118220</td>\n",
       "      <td>117884</td>\n",
       "      <td>117879</td>\n",
       "      <td>267952</td>\n",
       "      <td>19721</td>\n",
       "      <td>117880</td>\n",
       "    </tr>\n",
       "    <tr>\n",
       "      <th>3</th>\n",
       "      <td>1</td>\n",
       "      <td>36135</td>\n",
       "      <td>5396</td>\n",
       "      <td>117961</td>\n",
       "      <td>118343</td>\n",
       "      <td>119993</td>\n",
       "      <td>118321</td>\n",
       "      <td>240983</td>\n",
       "      <td>290919</td>\n",
       "      <td>118322</td>\n",
       "    </tr>\n",
       "    <tr>\n",
       "      <th>4</th>\n",
       "      <td>1</td>\n",
       "      <td>42680</td>\n",
       "      <td>5905</td>\n",
       "      <td>117929</td>\n",
       "      <td>117930</td>\n",
       "      <td>119569</td>\n",
       "      <td>119323</td>\n",
       "      <td>123932</td>\n",
       "      <td>19793</td>\n",
       "      <td>119325</td>\n",
       "    </tr>\n",
       "  </tbody>\n",
       "</table>\n",
       "</div>"
      ],
      "text/plain": [
       "   ACTION  RESOURCE  MGR_ID  ROLE_ROLLUP_1  ROLE_ROLLUP_2  ROLE_DEPTNAME  \\\n",
       "0       1     39353   85475         117961         118300         123472   \n",
       "1       1     17183    1540         117961         118343         123125   \n",
       "2       1     36724   14457         118219         118220         117884   \n",
       "3       1     36135    5396         117961         118343         119993   \n",
       "4       1     42680    5905         117929         117930         119569   \n",
       "\n",
       "   ROLE_TITLE  ROLE_FAMILY_DESC  ROLE_FAMILY  ROLE_CODE  \n",
       "0      117905            117906       290919     117908  \n",
       "1      118536            118536       308574     118539  \n",
       "2      117879            267952        19721     117880  \n",
       "3      118321            240983       290919     118322  \n",
       "4      119323            123932        19793     119325  "
      ]
     },
     "execution_count": 340,
     "metadata": {},
     "output_type": "execute_result"
    }
   ],
   "source": [
    "data = pd.read_csv('./amazon.csv')\n",
    "data.head()\n"
   ]
  },
  {
   "cell_type": "code",
   "execution_count": 341,
   "metadata": {
    "collapsed": false
   },
   "outputs": [
    {
     "data": {
      "text/plain": [
       "(32769, 10)"
      ]
     },
     "execution_count": 341,
     "metadata": {},
     "output_type": "execute_result"
    }
   ],
   "source": [
    "data.shape"
   ]
  },
  {
   "cell_type": "code",
   "execution_count": 342,
   "metadata": {
    "collapsed": false
   },
   "outputs": [
    {
     "data": {
      "text/plain": [
       "0.94210992096188473"
      ]
     },
     "execution_count": 342,
     "metadata": {},
     "output_type": "execute_result"
    }
   ],
   "source": [
    "# доля положительных примеров\n",
    "data.ACTION.mean()"
   ]
  },
  {
   "cell_type": "code",
   "execution_count": 343,
   "metadata": {
    "collapsed": false
   },
   "outputs": [
    {
     "name": "stdout",
     "output_type": "stream",
     "text": [
      "ACTION 2\n",
      "RESOURCE 7518\n",
      "MGR_ID 4243\n",
      "ROLE_ROLLUP_1 128\n",
      "ROLE_ROLLUP_2 177\n",
      "ROLE_DEPTNAME 449\n",
      "ROLE_TITLE 343\n",
      "ROLE_FAMILY_DESC 2358\n",
      "ROLE_FAMILY 67\n",
      "ROLE_CODE 343\n"
     ]
    }
   ],
   "source": [
    "# число значений у признаков\n",
    "for col_name in data.columns:\n",
    "    print col_name, len(data[col_name].unique())"
   ]
  },
  {
   "cell_type": "code",
   "execution_count": 344,
   "metadata": {
    "collapsed": false
   },
   "outputs": [],
   "source": [
    "from sklearn.cross_validation import train_test_split\n",
    "X_train, X_test, y_train, y_test = train_test_split(data.iloc[:, 1:], data.iloc[:, 0],\n",
    "                                                    test_size=0.3, random_state=241)\n",
    "features = X_train.columns"
   ]
  },
  {
   "cell_type": "code",
   "execution_count": 345,
   "metadata": {
    "collapsed": false
   },
   "outputs": [],
   "source": [
    "y_train = y_train.astype('b')\n",
    "y_test = y_test.astype('b')"
   ]
  },
  {
   "cell_type": "markdown",
   "metadata": {},
   "source": [
    "## Часть 1: kNN и категориальные признаки"
   ]
  },
  {
   "cell_type": "markdown",
   "metadata": {},
   "source": [
    "#### 1. Реализуйте три функции расстояния на категориальных признаках, которые обсуждались на втором семинаре. Реализуйте самостоятельно метод k ближайших соседей, который будет уметь работать с этими функциями расстояния (учитите, что он должен возвращать вероятность — отношение объектов первого класса среди соседей к числу соседей). Как вариант, можно реализовать метрики как [user-defined distance](http://scikit-learn.org/stable/modules/generated/sklearn.neighbors.DistanceMetric.html), после чего воспользоваться реализацией kNN из sklearn (в этом случае используйте функцию predict_proba).\n",
    "\n",
    "#### Подсчитайте для каждой из метрик качество на тестовой выборке `X_test` при числе соседей $k = 10$. Мера качества — AUC-ROC.\n",
    "\n",
    "Какая функция расстояния оказалась лучшей?"
   ]
  },
  {
   "cell_type": "code",
   "execution_count": 15,
   "metadata": {
    "collapsed": true
   },
   "outputs": [],
   "source": [
    "from collections import Counter\n",
    "\n",
    "\n",
    "class KNeighborsClassifier(object):\n",
    "    def __init__(self, X_train, y_train, dist_func='overlap', feature_weights=None, **kwargs):\n",
    "        \"\"\"\n",
    "        Parameters\n",
    "        ----------\n",
    "        X : array, shape (n_objects, n_features)\n",
    "            List of n_features-dimensional data points.  Each row\n",
    "            corresponds to a single data point.\n",
    "        \"\"\"\n",
    "        self._dist_func = dist_func\n",
    "\n",
    "        self._X_train = X_train\n",
    "        self._y_train = y_train\n",
    "        self._sorted_neighbors = None\n",
    "\n",
    "        self.classes = set(self._y_train)\n",
    "        self.feature_weights = feature_weights or np.ones(self._X_train.shape[1])\n",
    "\n",
    "    def fit(self, X_pred):\n",
    "        print \"Find coincidence features\"\n",
    "        coincidence_matrix = X_pred[:, np.newaxis] == self._X_train[np.newaxis, :]\n",
    "\n",
    "        print \"Compute dist(self._X_train, X_pred)\"\n",
    "        dist_func = _dist_funcs_dict[self._dist_func]\n",
    "        dist_matrix = dist_func(self, X_pred, coincidence_matrix)\n",
    "\n",
    "        print \"Get class indices\"\n",
    "        nearest_X_train_indices = np.argsort(dist_matrix, axis=1)\n",
    "\n",
    "        print \"Sort and save neighbors\"\n",
    "        self._sorted_neighbors_idxs = self._y_train[nearest_X_train_indices]\n",
    "\n",
    "    def predict(self, k):\n",
    "        k_nearest_neighbors = self._sorted_neighbors_idxs[:, :k]\n",
    "\n",
    "        score = np.array([np.sum(k_nearest_neighbors == c, axis=1) for c in self.classes]).T\n",
    "        X_y = np.argmax(score, axis=1)\n",
    "\n",
    "        return X_y\n",
    "\n",
    "    def _load_sorted_neighbors_idxs(self, sorted_neighbors_idxs):\n",
    "        self._sorted_neighbors_idxs = sorted_neighbors_idxs\n",
    "\n",
    "\n",
    "def _overlap_dist(KNN, X_pred, coincidence_matrix):\n",
    "    print \"_overlap_dist\"\n",
    "    print \"Inverting coincidence_matrix\"\n",
    "    inv_coincidence_matrix = np.invert(coincidence_matrix.astype(bool))\n",
    "    weighted_coincidence_matrix = inv_coincidence_matrix * KNN.feature_weights\n",
    "\n",
    "    print \"Sum Feature distance\"\n",
    "    dist_matrix = np.sum(weighted_coincidence_matrix, axis=2)\n",
    "\n",
    "    return dist_matrix\n",
    "\n",
    "\n",
    "def _get_accumulated_p_2(f, l):\n",
    "    print \"_get_accumulated_p_2\"\n",
    "    p = [Counter({v: f_v / float(l) for v, f_v in c.items()}) for c in f]\n",
    "    p_2 = [Counter({v: f_v * (f_v - 1) / float(l * (l - 1)) for v, f_v in c.items()}) for c in f]\n",
    "\n",
    "    A_dtype = [('x', int), ('p', float), ('p2', float)]\n",
    "    A_order = 'p'\n",
    "    A = []\n",
    "    for i, c in enumerate(f):\n",
    "        u = np.array([(k, p[i].get(k), p_2[i].get(k)) for k in c.keys()], dtype=A_dtype)\n",
    "        u.sort(order=A_order)\n",
    "        A.append(np.array(u.tolist()[::-1]))\n",
    "\n",
    "    # cumulative sum over p_2\n",
    "    B = [np.column_stack([f_A, np.cumsum(f_A, axis=0)[:, 2]]) for f_A in A]\n",
    "\n",
    "    # extract p_2 only\n",
    "    P_2 = [Counter({int(x): f_B[i, 3] for i, x in enumerate(f_B[:, 0])}) for f_B in B]\n",
    "\n",
    "    return P_2\n",
    "\n",
    "\n",
    "def _smooth_overlap_dist(KNN, X_pred, coincidence_matrix):\n",
    "    print \"_smooth_overlap_dist\"\n",
    "    f = [Counter(c) for c in KNN._X_train.T]\n",
    "\n",
    "    accum_p_2 = _get_accumulated_p_2(f, KNN._X_train.shape[0])\n",
    "\n",
    "    # Extend each X \n",
    "    print \"Extend each X \"\n",
    "    X_accum_p_2 = [[accum_p_2[i].get(feature) for i, feature in enumerate(x)] for x in KNN._X_train]\n",
    "    X_accum_p_2 = np.array(X_accum_p_2)\n",
    "\n",
    "    print \"Get P_2\"\n",
    "    idx_coincidence_features = np.nonzero(coincidence_matrix)\n",
    "    X_coincidence_idx = (idx_coincidence_features[1], idx_coincidence_features[2])\n",
    "\n",
    "    print \"Feature distance\"\n",
    "    dist_matrix = np.ones((X_pred.shape[0], KNN._X_train.shape[0], KNN._X_train.shape[1]))\n",
    "    dist_matrix[idx_coincidence_features] = X_accum_p_2[X_coincidence_idx]\n",
    "\n",
    "    print \"Sum Feature distance\"\n",
    "    dist_matrix_sum = np.sum(dist_matrix, axis=2)\n",
    "\n",
    "    return dist_matrix_sum\n",
    "\n",
    "\n",
    "def _map_to_log_f(x):\n",
    "    print \"_map_to_log_f\"\n",
    "    f_x = [Counter(c) for c in x.T]\n",
    "    log_f_x = [Counter({v: np.log(c) for v, c in f.items()}) for f in f_x]\n",
    "    x_log_f = [[log_f_x[f_i].get(f) for f_i, f in enumerate(obj)] for obj in x]\n",
    "    return np.array(x_log_f)\n",
    "\n",
    "\n",
    "def _type3_dist(KNN, X_pred, coincidence_matrix):\n",
    "    print \"_type3_dist\"\n",
    "    fit_X_log_f = _map_to_log_f(KNN._X_train)\n",
    "    X_log_f = _map_to_log_f(X_pred)\n",
    "\n",
    "    print \"np.dot(X_log_f, fit_X_log_f.T)\"\n",
    "    a_b_f = np.dot(X_log_f, fit_X_log_f.T)\n",
    "\n",
    "    x = KNN._X_train\n",
    "    y = X_pred\n",
    "    A = coincidence_matrix\n",
    "\n",
    "    print \"Step 1\"\n",
    "    A_x = A.reshape(y.shape[0], x.size) * fit_X_log_f.reshape(1, x.size)\n",
    "    A_x = A_x.reshape(y.shape[0], x.shape[0], x.shape[1])\n",
    "\n",
    "    print \"Step 2\"\n",
    "    A_x_T = A_x.swapaxes(0, 1)\n",
    "    A_x_T_slab = A_x_T.reshape(len(x), len(y) * x.shape[1])\n",
    "\n",
    "    print \"Step 3\"\n",
    "    A_x_y_T_slab = A_x_T_slab * X_log_f.reshape(1, y.size)\n",
    "\n",
    "    print \"Step 4\"\n",
    "    A_x_y_T = A_x_y_T_slab.reshape(len(x), len(y), x.shape[1])\n",
    "    A_x_y = A_x_y_T.swapaxes(1, 0)\n",
    "\n",
    "    print \"Step 5\"\n",
    "    A_x_y_sum = np.sum(A_x_y, axis=2)\n",
    "\n",
    "    print \"Step 6\"\n",
    "    dist_matrix = a_b_f - A_x_y_sum\n",
    "\n",
    "    return dist_matrix\n",
    "\n",
    "\n",
    "_dist_funcs_dict = {\n",
    "    'overlap': _overlap_dist,\n",
    "    'smooth_overlap': _smooth_overlap_dist,\n",
    "    'type3': _type3_dist,\n",
    "}\n"
   ]
  },
  {
   "cell_type": "markdown",
   "metadata": {},
   "source": [
    "## Overlap dist"
   ]
  },
  {
   "cell_type": "code",
   "execution_count": 99,
   "metadata": {
    "collapsed": false
   },
   "outputs": [],
   "source": [
    "knn_overlap = KNeighborsClassifier(X_train.as_matrix(), y_train.as_matrix(), dist_func=\"overlap\")"
   ]
  },
  {
   "cell_type": "code",
   "execution_count": 100,
   "metadata": {
    "collapsed": false
   },
   "outputs": [
    {
     "name": "stdout",
     "output_type": "stream",
     "text": [
      "Find coincidence features\n",
      "Compute dist(self._X_train, X_pred)\n",
      "_overlap_dist\n",
      "Inverting coincidence_matrix\n",
      "Sum Feature distance\n",
      "Get class indices\n",
      "Sort and save neighbors\n",
      "CPU times: user 23.8 s, sys: 50.2 s, total: 1min 14s\n",
      "Wall time: 1min 24s\n"
     ]
    }
   ],
   "source": [
    "%time knn_overlap.fit(X_test.as_matrix())"
   ]
  },
  {
   "cell_type": "code",
   "execution_count": 101,
   "metadata": {
    "collapsed": false
   },
   "outputs": [
    {
     "data": {
      "text/plain": [
       "0.7720236054232521"
      ]
     },
     "execution_count": 101,
     "metadata": {},
     "output_type": "execute_result"
    }
   ],
   "source": [
    "y_pred = knn_overlap.predict(k=2)\n",
    "metrics.roc_auc_score(y_test, y_pred)"
   ]
  },
  {
   "cell_type": "code",
   "execution_count": 115,
   "metadata": {
    "collapsed": true
   },
   "outputs": [],
   "source": [
    "# Save overlap_neighbors_idxs\n",
    "np.savez(\"files/overlap_neighbors_idxs.dat\",\n",
    "         overlap_neighbors_idxs=knn_overlap._sorted_neighbors_idxs)"
   ]
  },
  {
   "cell_type": "markdown",
   "metadata": {},
   "source": [
    "## Smooth overlap"
   ]
  },
  {
   "cell_type": "code",
   "execution_count": 120,
   "metadata": {
    "collapsed": true
   },
   "outputs": [],
   "source": [
    "knn_smooth_overlap = KNeighborsClassifier(X_train.as_matrix(), y_train.as_matrix(), dist_func=\"smooth_overlap\")"
   ]
  },
  {
   "cell_type": "code",
   "execution_count": 121,
   "metadata": {
    "collapsed": false
   },
   "outputs": [
    {
     "name": "stdout",
     "output_type": "stream",
     "text": [
      "Find coincidence features\n",
      "Compute dist(self._X_train, X_pred)\n",
      "_smooth_overlap_dist\n",
      "_get_accumulated_p_2\n",
      "Extend each X \n",
      "Get P_2\n",
      "Feature distance\n",
      "Sum Feature distance\n",
      "Get class indices\n",
      "Sort and save neighbors\n",
      "CPU times: user 41.4 s, sys: 1min 21s, total: 2min 2s\n",
      "Wall time: 2min 35s\n"
     ]
    }
   ],
   "source": [
    "%time knn_smooth_overlap.fit(X_test.as_matrix())"
   ]
  },
  {
   "cell_type": "code",
   "execution_count": 123,
   "metadata": {
    "collapsed": false
   },
   "outputs": [
    {
     "data": {
      "text/plain": [
       "0.76445255301300175"
      ]
     },
     "execution_count": 123,
     "metadata": {},
     "output_type": "execute_result"
    }
   ],
   "source": [
    "y_pred = knn_smooth_overlap.predict(k=2)\n",
    "metrics.roc_auc_score(y_test, y_pred)"
   ]
  },
  {
   "cell_type": "code",
   "execution_count": 125,
   "metadata": {
    "collapsed": true
   },
   "outputs": [],
   "source": [
    "# Save overlap_neighbors_idxs\n",
    "np.savez(\"files/smooth_overlap_neighbors_idxs.dat\",\n",
    "         smooth_overlap_neighbors_idxs=knn_smooth_overlap._sorted_neighbors_idxs)"
   ]
  },
  {
   "cell_type": "markdown",
   "metadata": {},
   "source": [
    "## Type3"
   ]
  },
  {
   "cell_type": "code",
   "execution_count": 126,
   "metadata": {
    "collapsed": true
   },
   "outputs": [],
   "source": [
    "knn_type3 = KNeighborsClassifier(X_train.as_matrix(), y_train.as_matrix(), dist_func=\"type3\")"
   ]
  },
  {
   "cell_type": "code",
   "execution_count": 127,
   "metadata": {
    "collapsed": false
   },
   "outputs": [
    {
     "name": "stdout",
     "output_type": "stream",
     "text": [
      "Find coincidence features\n",
      "Compute dist(self._X_train, X_pred)\n",
      "_type3_dist\n",
      "_map_to_log_f\n",
      "_map_to_log_f\n",
      "np.dot(X_log_f, fit_X_log_f.T)\n",
      "Step 1\n",
      "Step 2\n",
      "Step 3\n",
      "Step 4\n",
      "Step 5\n",
      "Step 6\n",
      "Get class indices\n",
      "Sort and save neighbors\n",
      "CPU times: user 1min 22s, sys: 1min 43s, total: 3min 6s\n",
      "Wall time: 4min 16s\n"
     ]
    }
   ],
   "source": [
    "%time knn_type3.fit(X_test.as_matrix())"
   ]
  },
  {
   "cell_type": "code",
   "execution_count": 129,
   "metadata": {
    "collapsed": false
   },
   "outputs": [
    {
     "data": {
      "text/plain": [
       "0.73368150577843338"
      ]
     },
     "execution_count": 129,
     "metadata": {},
     "output_type": "execute_result"
    }
   ],
   "source": [
    "y_pred = knn_type3.predict(k=2)\n",
    "metrics.roc_auc_score(y_test, y_pred)"
   ]
  },
  {
   "cell_type": "code",
   "execution_count": 130,
   "metadata": {
    "collapsed": true
   },
   "outputs": [],
   "source": [
    "# Save overlap_neighbors_idxs\n",
    "np.savez(\"files/type3_neighbors_idxs.dat\",\n",
    "         type3_neighbors_idxs=knn_type3._sorted_neighbors_idxs)"
   ]
  },
  {
   "cell_type": "markdown",
   "metadata": {},
   "source": [
    "#### 2 (бонус). Подберите лучшее (на тестовой выборке) число соседей $k$ для каждой из функций расстояния. Какое наилучшее качество удалось достичь?"
   ]
  },
  {
   "cell_type": "markdown",
   "metadata": {},
   "source": [
    "### overlap_neighbors"
   ]
  },
  {
   "cell_type": "code",
   "execution_count": 16,
   "metadata": {
    "collapsed": false
   },
   "outputs": [],
   "source": [
    "overlap_neighbors_idxs = np.load('files/overlap_neighbors_idxs.dat.npz')['overlap_neighbors_idxs']"
   ]
  },
  {
   "cell_type": "code",
   "execution_count": 17,
   "metadata": {
    "collapsed": false
   },
   "outputs": [],
   "source": [
    "o_knn = KNeighborsClassifier(X_train.as_matrix(), y_train.as_matrix(), dist_func=\"overlap\")\n",
    "o_knn._load_sorted_neighbors_idxs(overlap_neighbors_idxs)"
   ]
  },
  {
   "cell_type": "code",
   "execution_count": 22,
   "metadata": {
    "collapsed": false,
    "scrolled": true
   },
   "outputs": [
    {
     "name": "stdout",
     "output_type": "stream",
     "text": [
      "k = 2 | roc_auc_score = 0.772023605423\n"
     ]
    }
   ],
   "source": [
    "o_knn_score = np.array([metrics.roc_auc_score(y_test, o_knn.predict(k=k)) for k in range(1, 16)])\n",
    "print \"k =\", np.argmax(o_knn_score) + 1, \"| roc_auc_score =\", max(o_knn_score)"
   ]
  },
  {
   "cell_type": "markdown",
   "metadata": {},
   "source": [
    "## smooth_overlap_neighbors"
   ]
  },
  {
   "cell_type": "code",
   "execution_count": 24,
   "metadata": {
    "collapsed": true
   },
   "outputs": [],
   "source": [
    "smooth_overlap_neighbors_idxs = np.load('files/smooth_overlap_neighbors_idxs.dat.npz')['smooth_overlap_neighbors_idxs']"
   ]
  },
  {
   "cell_type": "code",
   "execution_count": 25,
   "metadata": {
    "collapsed": false
   },
   "outputs": [],
   "source": [
    "so_knn = KNeighborsClassifier(X_train.as_matrix(), y_train.as_matrix(), dist_func=\"smooth_overlap\")\n",
    "so_knn._load_sorted_neighbors_idxs(smooth_overlap_neighbors_idxs)"
   ]
  },
  {
   "cell_type": "code",
   "execution_count": 26,
   "metadata": {
    "collapsed": false
   },
   "outputs": [
    {
     "name": "stdout",
     "output_type": "stream",
     "text": [
      "k = 2 | roc_auc_score = 0.764452553013\n"
     ]
    }
   ],
   "source": [
    "so_knn_score = np.array([metrics.roc_auc_score(y_test, so_knn.predict(k=k)) for k in range(1, 16)])\n",
    "print \"k =\", np.argmax(so_knn_score) + 1, \"| roc_auc_score =\", max(so_knn_score)"
   ]
  },
  {
   "cell_type": "markdown",
   "metadata": {},
   "source": [
    "## Type3 "
   ]
  },
  {
   "cell_type": "code",
   "execution_count": 31,
   "metadata": {
    "collapsed": true
   },
   "outputs": [],
   "source": [
    "type3_neighbors_idxs = np.load('files/type3_neighbors_idxs.dat.npz')['type3_neighbors_idxs']"
   ]
  },
  {
   "cell_type": "code",
   "execution_count": 32,
   "metadata": {
    "collapsed": true
   },
   "outputs": [],
   "source": [
    "t3_knn = KNeighborsClassifier(X_train.as_matrix(), y_train.as_matrix(), dist_func=\"type3\")\n",
    "t3_knn._load_sorted_neighbors_idxs(type3_neighbors_idxs)"
   ]
  },
  {
   "cell_type": "code",
   "execution_count": 33,
   "metadata": {
    "collapsed": false
   },
   "outputs": [
    {
     "name": "stdout",
     "output_type": "stream",
     "text": [
      "k = 2 | roc_auc_score = 0.733681505778\n"
     ]
    }
   ],
   "source": [
    "t3_knn_score = np.array([metrics.roc_auc_score(y_test, t3_knn.predict(k=k)) for k in range(1, 16)])\n",
    "print \"k =\", np.argmax(t3_knn_score) + 1, \"| roc_auc_score =\", max(t3_knn_score)"
   ]
  },
  {
   "cell_type": "markdown",
   "metadata": {},
   "source": [
    " **Вывод:  Наилучшее качество достигается на smooth_overlap_neighbors с k = 2. **"
   ]
  },
  {
   "cell_type": "markdown",
   "metadata": {},
   "source": [
    "#### 3. Реализуйте счетчики (http://blogs.technet.com/b/machinelearning/archive/2015/02/17/big-learning-made-easy-with-counts.aspx), которые заменят категориальные признаки на вещественные.\n",
    "\n",
    "А именно, каждый категориальный признак нужно заменить на три: \n",
    "1. Число `counts` объектов в обучающей выборке с таким же значением признака.\n",
    "2. Число `clicks` объектов первого класса ($y = 1$) в обучающей выборке с таким же значением признака.\n",
    "3. Сглаженное отношение двух предыдущих величин: (`clicks` + 1) / (`counts` + 2).\n",
    "\n",
    "Поскольку признаки, содержащие информацию о целевой переменной, могут привести к переобучению, может оказаться полезным сделать *фолдинг*: разбить обучающую выборку на $n$ частей, и для $i$-й части считать `counts` и `clicks` по всем остальным частям. Для тестовой выборки используются счетчики, посчитанный по всей обучающей выборке. Реализуйте и такой вариант. Можно использовать $n = 3$."
   ]
  },
  {
   "cell_type": "markdown",
   "metadata": {},
   "source": [
    "<span style=\"color:blue\">1. Считаем счетчики</span>"
   ]
  },
  {
   "cell_type": "code",
   "execution_count": 39,
   "metadata": {
    "collapsed": true
   },
   "outputs": [],
   "source": [
    "def counts_and_clicks(X, y):\n",
    "    counts_dict = {col: dict(Counter(X[col])) for col in X.columns}\n",
    "    clicks_dict = {col: dict(Counter(X[y == 1][col])) for col in X.columns}\n",
    "    \n",
    "    return counts_dict, clicks_dict"
   ]
  },
  {
   "cell_type": "markdown",
   "metadata": {},
   "source": [
    "<span style=\"color:blue\">2. Функции по переводу DataFrame-ов в счетчики</span>"
   ]
  },
  {
   "cell_type": "code",
   "execution_count": 40,
   "metadata": {
    "collapsed": true
   },
   "outputs": [],
   "source": [
    "def to_counts_using_replace(X):\n",
    "    X_counts = X.replace(to_replace=counts_dict)\n",
    "    X_counts.columns += \"_counts\"\n",
    "    \n",
    "    X_clicks = X.replace(to_replace=clicks_dict)\n",
    "    X_clicks.columns += \"_clicks\"\n",
    "    \n",
    "    X_smooth = X.replace(to_replace=smooth_dict)\n",
    "    X_smooth.columns += \"_smooth\"\n",
    "    \n",
    "    X_c_train = pd.concat([X_counts, X_clicks, X_smooth], axis=1)\n",
    "\n",
    "    return X_c_train\n",
    "\n",
    "def categorial_to_counts(X, counts_dict, clicks_dict):\n",
    "    new_series = []\n",
    "\n",
    "    for col in X.columns:\n",
    "        counts = X[col].apply(lambda x: counts_dict[col].get(x, 0))\n",
    "        counts.name += '_counts'\n",
    "\n",
    "        clicks = X[col].apply(lambda x: clicks_dict[col].get(x, 0))\n",
    "        clicks.name += '_clicks'\n",
    "\n",
    "        smooth = (clicks + 1) / (counts + 2).astype(float)\n",
    "        smooth.name = col + '_smooth'\n",
    "\n",
    "        new_series += [counts, clicks, smooth]\n",
    "\n",
    "    X_counts = pd.concat(new_series, axis=1)\n",
    "    \n",
    "    return X_counts"
   ]
  },
  {
   "cell_type": "code",
   "execution_count": 41,
   "metadata": {
    "collapsed": false
   },
   "outputs": [],
   "source": [
    "def convert_2_counts(X, y, folds=1):\n",
    "    X_counted = None\n",
    "    \n",
    "    if folds > 1:\n",
    "        X_folds = np.array_split(X, folds)\n",
    "        y_folds = np.array_split(y, folds)\n",
    "    \n",
    "        counted_folds = []\n",
    "        for fold_num in range(folds):\n",
    "            X_rest_folds = pd.concat([X_folds[i] for i in range(folds) if i != fold_num])\n",
    "            y_rest_folds = pd.concat([y_folds[i] for i in range(folds) if i != fold_num])\n",
    "            \n",
    "            counts, clicks = counts_and_clicks(X_rest_folds, y_rest_folds)\n",
    "            X_fold_counted = categorial_to_counts(X_folds[fold_num], counts, clicks)\n",
    "\n",
    "            counted_folds.append(X_fold_counted)\n",
    "\n",
    "        X_counted = pd.concat(counted_folds)\n",
    "    else:\n",
    "        counts, clicks = counts_and_clicks(X, y)\n",
    "        X_counted = categorial_to_counts(X, counts, clicks)\n",
    "    \n",
    "    return X_counted"
   ]
  },
  {
   "cell_type": "code",
   "execution_count": 42,
   "metadata": {
    "collapsed": true
   },
   "outputs": [],
   "source": [
    "def convert_2_counts_with_counts(X, counts, clicks):\n",
    "    X_counted = categorial_to_counts(X, counts, clicks)\n",
    "    return X_counted"
   ]
  },
  {
   "cell_type": "code",
   "execution_count": 43,
   "metadata": {
    "collapsed": true
   },
   "outputs": [],
   "source": [
    "normalize = lambda X: (X - X.mean()) / (X.max() - X.min())"
   ]
  },
  {
   "cell_type": "code",
   "execution_count": 121,
   "metadata": {
    "collapsed": true
   },
   "outputs": [],
   "source": [
    "def categorial_to_real(X_train, y_train, X_test, folds=1):\n",
    "    # Convert X_train categorial to real\n",
    "    X_train_real = convert_2_counts(X_train, y_train, folds=folds)\n",
    "    \n",
    "    # Get counts of all X_train for X_test\n",
    "    counts, clicks = counts_and_clicks(X_train, y_train)\n",
    "    \n",
    "    # Convert X_test categorial to real\n",
    "    X_test_real = convert_2_counts_with_counts(X_test, counts, clicks)\n",
    "    \n",
    "    return X_train_real, X_test_real"
   ]
  },
  {
   "cell_type": "markdown",
   "metadata": {},
   "source": [
    "_"
   ]
  },
  {
   "cell_type": "code",
   "execution_count": 44,
   "metadata": {
    "collapsed": true
   },
   "outputs": [],
   "source": [
    "X_c_train = convert_2_counts(X_train, y_train, folds=3)\n",
    "\n",
    "X_train_counts, X_train_clicks = counts_and_clicks(X_train, y_train)\n",
    "X_c_test = convert_2_counts_with_counts(X_test, X_train_counts, X_train_clicks)\n"
   ]
  },
  {
   "cell_type": "markdown",
   "metadata": {},
   "source": [
    "<span style=\"color:blue\">3. Запускаеи KNN</span>"
   ]
  },
  {
   "cell_type": "code",
   "execution_count": 45,
   "metadata": {
    "collapsed": false,
    "scrolled": true
   },
   "outputs": [
    {
     "data": {
      "text/plain": [
       "0.71496737163769364"
      ]
     },
     "execution_count": 45,
     "metadata": {},
     "output_type": "execute_result"
    }
   ],
   "source": [
    "def count_clicks_simple_test(X_train, y_train, X_test, y_test):\n",
    "    X_train_real, X_test_real = categorial_to_real(X_train, y_train, X_test, folds=3)\n",
    "\n",
    "    clf_euclidean = neighbors.KNeighborsClassifier(n_neighbors=2)\n",
    "    clf_euclidean.fit(normalize(X_train_real), y_train) \n",
    "    y_pred = clf_euclidean.predict(normalize(X_test_real))\n",
    "    return metrics.roc_auc_score(y_test, y_pred)"
   ]
  },
  {
   "cell_type": "code",
   "execution_count": null,
   "metadata": {
    "collapsed": true
   },
   "outputs": [],
   "source": [
    "count_clicks_simple_test(X_train, y_train, X_test, y_test)"
   ]
  },
  {
   "cell_type": "markdown",
   "metadata": {},
   "source": [
    "#### Посчитайте на тесте AUC-ROC метода $k$ ближайших соседей с евклидовой метрикой для выборки, где категориальные признаки заменены на счетчики. Сравните по AUC-ROC два варианта формирования выборки — с фолдингом и без. Не забудьте подобрать наилучшее число соседей $k$."
   ]
  },
  {
   "cell_type": "code",
   "execution_count": 46,
   "metadata": {
    "collapsed": true
   },
   "outputs": [],
   "source": [
    "def convert_to_real_and_compute_auc_roc(X_train, y_train, X_test, y_test, with_folding=False):\n",
    "    if with_folding:\n",
    "        print \"--> AUC-ROC с фолдингом\"\n",
    "        folds=3\n",
    "    else:\n",
    "        print \"--> AUC-ROC без фолдингом\"\n",
    "        folds=1\n",
    "\n",
    "    print \"- Converting X_train to counts\"\n",
    "    X_train_real = convert_2_counts(X_train, y_train, folds=folds)\n",
    "\n",
    "    print \"- Converting X_test to counts\"\n",
    "    X_train_counts, X_train_clicks = counts_and_clicks(X_train, y_train)\n",
    "    X_test_real = convert_2_counts_with_counts(X_test, X_train_counts, X_train_clicks)\n",
    "    \n",
    "    print \"- Fitting clf\"\n",
    "    clf = neighbors.KNeighborsClassifier(n_neighbors=2)\n",
    "    clf.fit(normalize(X_train_real), y_train) \n",
    "    \n",
    "    print \"- Predicting\"\n",
    "    y_pred = clf.predict(normalize(X_test_real))\n",
    "    \n",
    "    score = metrics.roc_auc_score(y_test, y_pred)\n",
    "    print \"AUC-ROC=%f\" % score\n",
    "    \n",
    "    return X_train_real, X_test_real"
   ]
  },
  {
   "cell_type": "code",
   "execution_count": 47,
   "metadata": {
    "collapsed": false
   },
   "outputs": [
    {
     "name": "stdout",
     "output_type": "stream",
     "text": [
      "--> AUC-ROC без фолдингом\n",
      "- Converting X_train to counts\n",
      "- Converting X_test to counts\n",
      "- Fitting clf\n",
      "- Predicting\n",
      "AUC-ROC=0.713071\n",
      "--> AUC-ROC с фолдингом\n",
      "- Converting X_train to counts\n",
      "- Converting X_test to counts\n",
      "- Fitting clf\n",
      "- Predicting\n",
      "AUC-ROC=0.714967\n"
     ]
    }
   ],
   "source": [
    "convert_to_real_and_compute_auc_roc(X_train, y_train, X_test, y_test, with_folding=False);\n",
    "X_train_real, X_test_real = convert_to_real_and_compute_auc_roc(X_train, y_train, X_test, y_test, with_folding=True);"
   ]
  },
  {
   "cell_type": "code",
   "execution_count": 134,
   "metadata": {
    "collapsed": true
   },
   "outputs": [],
   "source": [
    "from sklearn.cross_validation import KFold, cross_val_score\n",
    "from sklearn.grid_search import GridSearchCV\n",
    "\n",
    "n_neighbors_range = range(2, 4)\n",
    "\n",
    "def knn_select_best_k(X_train, y_train):\n",
    "    cv = KFold(X_train.shape[0], shuffle=True, n_folds=5)\n",
    "    gs = GridSearchCV(neighbors.KNeighborsClassifier(),\n",
    "                      param_grid={'n_neighbors': n_neighbors_range},\n",
    "                      cv=cv,\n",
    "                      scoring='roc_auc')\n",
    "    gs.fit(normalize(X_train), y_train)\n",
    "    \n",
    "    print gs.grid_scores_\n",
    "    plt.scatter(n_neighbors_range,\n",
    "                [gs.grid_scores_[i].mean_validation_score for i in range(len(gs.grid_scores_))])\n",
    "    \n",
    "    return gs"
   ]
  },
  {
   "cell_type": "code",
   "execution_count": 84,
   "metadata": {
    "collapsed": false
   },
   "outputs": [
    {
     "name": "stdout",
     "output_type": "stream",
     "text": [
      "CPU times: user 1min 35s, sys: 379 ms, total: 1min 35s\n",
      "Wall time: 1min 35s\n"
     ]
    }
   ],
   "source": [
    "%time gs = knn_select_best_k(X_train_real, y_train)"
   ]
  },
  {
   "cell_type": "code",
   "execution_count": 103,
   "metadata": {
    "collapsed": false
   },
   "outputs": [
    {
     "name": "stdout",
     "output_type": "stream",
     "text": [
      "0.676446549222\n"
     ]
    }
   ],
   "source": [
    "def evaluate(X_train, y_train, X_test, y_test, k):\n",
    "    clf = neighbors.KNeighborsClassifier(n_neighbors=k)\n",
    "    clf.fit(normalize(X_train), y_train)\n",
    "\n",
    "    y_pred = clf.predict(normalize(X_test))\n",
    "\n",
    "    print metrics.roc_auc_score(y_test, y_pred)\n",
    "    \n",
    "evaluate(X_train_real, y_train, X_test_real, y_test, 4)"
   ]
  },
  {
   "cell_type": "markdown",
   "metadata": {},
   "source": [
    "Оптимальное k = 4"
   ]
  },
  {
   "cell_type": "markdown",
   "metadata": {},
   "source": [
    "**Вывод: Данный Категориальный Training set, преобразованный в счетчики с фолдингом дает незначительный прирост качества, по сравнению с преобразованием без фолдинга.**"
   ]
  },
  {
   "cell_type": "markdown",
   "metadata": {},
   "source": [
    "#### 4. Добавьте в исходную выборку парные признаки — то есть для каждой пары $f_i$, $f_j$ исходных категориальных признаков добавьте новый категориальный признак $f_{ij}$, значение которого является конкатенацией значений $f_i$ и $f_j$. Посчитайте счетчики для этой выборки, найдите качество метода $k$ ближайших соседей с наилучшим $k$ (с фолдингом и без)."
   ]
  },
  {
   "cell_type": "code",
   "execution_count": 107,
   "metadata": {
    "collapsed": true
   },
   "outputs": [],
   "source": [
    "import itertools"
   ]
  },
  {
   "cell_type": "code",
   "execution_count": 108,
   "metadata": {
    "collapsed": false
   },
   "outputs": [
    {
     "data": {
      "text/plain": [
       "Index([u'RESOURCE', u'MGR_ID', u'ROLE_ROLLUP_1', u'ROLE_ROLLUP_2',\n",
       "       u'ROLE_DEPTNAME', u'ROLE_TITLE', u'ROLE_FAMILY_DESC', u'ROLE_FAMILY',\n",
       "       u'ROLE_CODE'],\n",
       "      dtype='object')"
      ]
     },
     "execution_count": 108,
     "metadata": {},
     "output_type": "execute_result"
    }
   ],
   "source": [
    "X_train.columns"
   ]
  },
  {
   "cell_type": "code",
   "execution_count": 129,
   "metadata": {
    "collapsed": false
   },
   "outputs": [],
   "source": [
    "def expand_df(X):\n",
    "    df = X.copy()\n",
    "    col_combs = itertools.combinations(df.columns, r=2)\n",
    "    for col1, col2 in col_combs:\n",
    "        s1 = df.loc[:, col1]\n",
    "        s2 = df.loc[:, col2]\n",
    "        \n",
    "        new_col = s1.name + '_and_'+ s2.name\n",
    "        df[new_col] = s1 + s2\n",
    "    \n",
    "    return df"
   ]
  },
  {
   "cell_type": "markdown",
   "metadata": {},
   "source": [
    "* X_train_expand - **X_train с парными признаками**\n",
    "* X_test_expand  - **X_test  с парными признаками**"
   ]
  },
  {
   "cell_type": "code",
   "execution_count": 130,
   "metadata": {
    "collapsed": false
   },
   "outputs": [],
   "source": [
    "X_train_expand = expand_df(X_train)\n",
    "X_test_expand = expand_df(X_test)"
   ]
  },
  {
   "cell_type": "markdown",
   "metadata": {},
   "source": [
    "* X_train_expand_real - **ковертированный X_train_expand в счетчики без фолдинга**\n",
    "* X_test_expand_real  - **ковертированный X_test_expand в счетчики без фолдинга**\n",
    "* X_train_expand_real_fol - **ковертированный X_train_expand в счетчики c фолдингом**\n",
    "* X_test_expand_real_fol  - **ковертированный X_test_expand в счетчики c фолдингом**"
   ]
  },
  {
   "cell_type": "code",
   "execution_count": 131,
   "metadata": {
    "collapsed": true
   },
   "outputs": [],
   "source": [
    "X_train_expand_real, X_test_expand_real = categorial_to_real(X_train_expand, y_train, X_test_expand, folds=1)\n",
    "X_train_expand_real_fol, X_test_expand_real_fol = categorial_to_real(X_train_expand, y_train, X_test_expand, folds=5)"
   ]
  },
  {
   "cell_type": "code",
   "execution_count": 132,
   "metadata": {
    "collapsed": false
   },
   "outputs": [
    {
     "name": "stdout",
     "output_type": "stream",
     "text": [
      "0.630643919544\n",
      "CPU times: user 37.1 s, sys: 181 ms, total: 37.3 s\n",
      "Wall time: 37.3 s\n"
     ]
    }
   ],
   "source": [
    "%time evaluate(X_train_expand_real, y_train, X_test_expand_real, y_test, 4)"
   ]
  },
  {
   "cell_type": "code",
   "execution_count": 133,
   "metadata": {
    "collapsed": false
   },
   "outputs": [
    {
     "name": "stdout",
     "output_type": "stream",
     "text": [
      "0.702134914936\n",
      "CPU times: user 31.8 s, sys: 203 ms, total: 32 s\n",
      "Wall time: 32.1 s\n"
     ]
    }
   ],
   "source": [
    "%time evaluate(X_train_expand_real_fol, y_train, X_test_expand_real_fol, y_test, 4)"
   ]
  },
  {
   "cell_type": "code",
   "execution_count": 135,
   "metadata": {
    "collapsed": true
   },
   "outputs": [
    {
     "data": {
      "image/png": "[encoded data removed]",
      "text/plain": [
       "<matplotlib.figure.Figure at 0x13791a490>"
      ]
     },
     "metadata": {},
     "output_type": "display_data"
    }
   ],
   "source": [
    "gs = knn_select_best_k(X_train_expand_real, y_train)"
   ]
  },
  {
   "cell_type": "markdown",
   "metadata": {},
   "source": [
    "**Вывод: Категориальный Training set с конкатенацией признаков, преобразованный в счетчики с фолдингом дает прирост качества.**"
   ]
  },
  {
   "cell_type": "markdown",
   "metadata": {},
   "source": [
    "## Часть 2: Решающие деревья и леса"
   ]
  },
  {
   "cell_type": "markdown",
   "metadata": {},
   "source": [
    "#### 1. Возьмите из предыдущей части выборку с парными признаками, преобразованную с помощью счетчиков без фолдинга (X_train_expand_real). Настройте решающее дерево, подобрав оптимальные значения параметров `max_depth` и `min_samples_leaf`. Какой наилучший AUC-ROC на контроле удалось получить?"
   ]
  },
  {
   "cell_type": "markdown",
   "metadata": {},
   "source": [
    "X_train_expand_real"
   ]
  },
  {
   "cell_type": "code",
   "execution_count": 147,
   "metadata": {
    "collapsed": false
   },
   "outputs": [],
   "source": [
    "from sklearn.cross_validation import KFold, cross_val_score\n",
    "from sklearn.grid_search import GridSearchCV\n",
    "\n",
    "\n",
    "def trees__simple_clf(max_depth=None, min_samples_leaf=1):\n",
    "    cv = KFold(X_train_expand_real.shape[0], shuffle=True, random_state=88, n_folds=5)\n",
    "    clf = tree.DecisionTreeClassifier(random_state=88,\n",
    "                                      max_depth=max_depth,\n",
    "                                      min_samples_leaf=min_samples_leaf)\n",
    "    print cross_val_score(clf, X_train_expand_real, y_train, cv=cv, \n",
    "                           scoring='roc_auc').mean()\n",
    "\n",
    "def trees__fit_params(X_train, y_train):    \n",
    "    cv = KFold(X_train.shape[0], shuffle=True, random_state=241, n_folds=5)\n",
    "\n",
    "    gs = GridSearchCV(tree.DecisionTreeClassifier(random_state=241),\n",
    "                      param_grid={'max_depth': [2, 4, 6, 8, 10, 20, 50],\n",
    "                                  'min_samples_leaf': range(1, 20)},\n",
    "                      cv=cv,\n",
    "                      scoring='roc_auc')\n",
    "    gs.fit(X_train, y_train)\n",
    "    return gs"
   ]
  },
  {
   "cell_type": "code",
   "execution_count": 172,
   "metadata": {
    "collapsed": false
   },
   "outputs": [
    {
     "name": "stdout",
     "output_type": "stream",
     "text": [
      "0.986247267747\n"
     ]
    }
   ],
   "source": [
    "trees__simple_clf()"
   ]
  },
  {
   "cell_type": "code",
   "execution_count": 311,
   "metadata": {
    "collapsed": true
   },
   "outputs": [],
   "source": [
    "def trees__evaluate_params(X_train, X_test, max_depth=None, min_samples_leaf=1):   \n",
    "    clf = tree.DecisionTreeClassifier(random_state=88, max_depth=max_depth, min_samples_leaf=min_samples_leaf)\n",
    "    clf.fit(X_train, y_train)\n",
    "    y_pred = clf.predict(X_test)\n",
    "    return metrics.roc_auc_score(y_test, y_pred)"
   ]
  },
  {
   "cell_type": "markdown",
   "metadata": {},
   "source": [
    "### Стандартный датасет"
   ]
  },
  {
   "cell_type": "code",
   "execution_count": 307,
   "metadata": {
    "collapsed": true
   },
   "outputs": [],
   "source": [
    "gs = trees__fit_params(X_train, y_train)"
   ]
  },
  {
   "cell_type": "code",
   "execution_count": 308,
   "metadata": {
    "collapsed": false
   },
   "outputs": [
    {
     "data": {
      "text/plain": [
       "(0.52776935469221331, 0.79329012674163557)"
      ]
     },
     "execution_count": 308,
     "metadata": {},
     "output_type": "execute_result"
    },
    {
     "data": {
      "image/png": "[encoded data removed]",
      "text/plain": [
       "<matplotlib.figure.Figure at 0x13a161e50>"
      ]
     },
     "metadata": {},
     "output_type": "display_data"
    }
   ],
   "source": [
    "plt.figure(figsize=(16, 3))\n",
    "means = [gs.grid_scores_[i].mean_validation_score for i in range(len(gs.grid_scores_))]\n",
    "plt.scatter(range(len(gs.grid_scores_)), means)\n",
    "plt.xticks(range(1, len(gs.grid_scores_), 2), rotation='vertical');\n",
    "plt.ylim([min(means)-0.05, max(means)+0.05])"
   ]
  },
  {
   "cell_type": "code",
   "execution_count": 316,
   "metadata": {
    "collapsed": false
   },
   "outputs": [
    {
     "name": "stdout",
     "output_type": "stream",
     "text": [
      "mean: 0.70995, std: 0.01758, params: {'max_depth': 50, 'min_samples_leaf': 3}\n",
      "mean: 0.69000, std: 0.01965, params: {'max_depth': 20, 'min_samples_leaf': 2}\n",
      "mean: 0.73723, std: 0.00737, params: {'max_depth': 50, 'min_samples_leaf': 8}\n",
      "mean: 0.63076, std: 0.00971, params: {'max_depth': 4, 'min_samples_leaf': 1}\n"
     ]
    }
   ],
   "source": [
    "print gs.grid_scores_[116]\n",
    "print gs.grid_scores_[96]\n",
    "print gs.grid_scores_[121]\n",
    "print gs.grid_scores_[19]\n"
   ]
  },
  {
   "cell_type": "code",
   "execution_count": 317,
   "metadata": {
    "collapsed": false
   },
   "outputs": [
    {
     "name": "stdout",
     "output_type": "stream",
     "text": [
      "0.562979694074\n",
      "0.556452943346\n",
      "0.542344087969\n",
      "0.54868348979\n"
     ]
    }
   ],
   "source": [
    "print trees__evaluate_params(X_train_expand_real, X_test_expand_real, **gs.grid_scores_[116].parameters)\n",
    "print trees__evaluate_params(X_train_expand_real, X_test_expand_real, **gs.grid_scores_[96].parameters)\n",
    "print trees__evaluate_params(X_train_expand_real, X_test_expand_real, **gs.grid_scores_[121].parameters)\n",
    "print trees__evaluate_params(X_train_expand_real, X_test_expand_real, **gs.grid_scores_[19].parameters)"
   ]
  },
  {
   "cell_type": "markdown",
   "metadata": {},
   "source": [
    "### Деревья на датасете без фолдингом"
   ]
  },
  {
   "cell_type": "code",
   "execution_count": 150,
   "metadata": {
    "collapsed": false
   },
   "outputs": [],
   "source": [
    "gs = trees__fit_params(X_train_expand_real, y_train)"
   ]
  },
  {
   "cell_type": "code",
   "execution_count": 166,
   "metadata": {
    "collapsed": false,
    "scrolled": true
   },
   "outputs": [
    {
     "data": {
      "text/plain": [
       "(0.93644928166517649, 1.0485824637030814)"
      ]
     },
     "execution_count": 166,
     "metadata": {},
     "output_type": "execute_result"
    },
    {
     "data": {
      "image/png": "[encoded data removed]",
      "text/plain": [
       "<matplotlib.figure.Figure at 0x13d6b6110>"
      ]
     },
     "metadata": {},
     "output_type": "display_data"
    }
   ],
   "source": [
    "plt.figure(figsize=(16, 3))\n",
    "means = [gs.grid_scores_[i].mean_validation_score for i in range(len(gs.grid_scores_))]\n",
    "plt.scatter(range(len(gs.grid_scores_)), means)\n",
    "plt.xticks(range(1, len(gs.grid_scores_), 2), rotation='vertical');\n",
    "plt.ylim([min(means)-0.05, max(means)+0.05])"
   ]
  },
  {
   "cell_type": "code",
   "execution_count": 188,
   "metadata": {
    "collapsed": false
   },
   "outputs": [
    {
     "data": {
      "text/plain": [
       "(0.93644928166517649, 1.0485824637030814)"
      ]
     },
     "execution_count": 188,
     "metadata": {},
     "output_type": "execute_result"
    },
    {
     "data": {
      "image/png": "[encoded data removed]",
      "text/plain": [
       "<matplotlib.figure.Figure at 0x13c8884d0>"
      ]
     },
     "metadata": {},
     "output_type": "display_data"
    }
   ],
   "source": [
    "plt.figure(figsize=(16, 3))\n",
    "scores = gs.grid_scores_[:45]\n",
    "\n",
    "means = [scores[i].mean_validation_score for i in range(len(scores))]\n",
    "plt.scatter(range(len(scores)), means)\n",
    "plt.xticks(range(1, len(scores)), rotation='vertical');\n",
    "plt.ylim([min(means)-0.05, max(means)+0.05])"
   ]
  },
  {
   "cell_type": "code",
   "execution_count": 189,
   "metadata": {
    "collapsed": false,
    "scrolled": false
   },
   "outputs": [
    {
     "name": "stdout",
     "output_type": "stream",
     "text": [
      "mean: 0.99174, std: 0.00455, params: {'max_depth': 4, 'min_samples_leaf': 2}\n",
      "mean: 0.99243, std: 0.00135, params: {'max_depth': 4, 'min_samples_leaf': 1}\n",
      "mean: 0.98645, std: 0.00575, params: {'max_depth': 2, 'min_samples_leaf': 19}\n",
      "mean: 0.99268, std: 0.00305, params: {'max_depth': 6, 'min_samples_leaf': 1}\n"
     ]
    }
   ],
   "source": [
    "print gs.grid_scores_[20]\n",
    "print gs.grid_scores_[19]\n",
    "print gs.grid_scores_[18]\n",
    "print gs.grid_scores_[38]\n"
   ]
  },
  {
   "cell_type": "code",
   "execution_count": 201,
   "metadata": {
    "collapsed": false
   },
   "outputs": [],
   "source": []
  },
  {
   "cell_type": "code",
   "execution_count": 202,
   "metadata": {
    "collapsed": false
   },
   "outputs": [
    {
     "name": "stdout",
     "output_type": "stream",
     "text": [
      "0.554222278292\n",
      "0.655335696895\n"
     ]
    }
   ],
   "source": [
    "print trees__evaluate_params(X_train_expand_real, X_test_expand_real, **{'max_depth': 6, 'min_samples_leaf': 1})\n",
    "print trees__evaluate_params(X_train_expand_real_fol, X_test_expand_real_fol, **{'max_depth': 6, 'min_samples_leaf': 1})\n"
   ]
  },
  {
   "cell_type": "code",
   "execution_count": 194,
   "metadata": {
    "collapsed": false,
    "scrolled": true
   },
   "outputs": [
    {
     "data": {
      "text/plain": [
       "(0.99858246370308135, {'max_depth': 4, 'min_samples_leaf': 12})"
      ]
     },
     "execution_count": 194,
     "metadata": {},
     "output_type": "execute_result"
    }
   ],
   "source": [
    "gs.best_score_, gs.best_params_"
   ]
  },
  {
   "cell_type": "markdown",
   "metadata": {},
   "source": [
    "### Деревья на датасете с фолдингом"
   ]
  },
  {
   "cell_type": "code",
   "execution_count": 203,
   "metadata": {
    "collapsed": false
   },
   "outputs": [],
   "source": [
    "gs = trees__fit_params(X_train_expand_real_fol, y_train)"
   ]
  },
  {
   "cell_type": "code",
   "execution_count": 204,
   "metadata": {
    "collapsed": false,
    "scrolled": true
   },
   "outputs": [
    {
     "data": {
      "text/plain": [
       "(0.54199691162109154, 0.85129639374976207)"
      ]
     },
     "execution_count": 204,
     "metadata": {},
     "output_type": "execute_result"
    },
    {
     "data": {
      "image/png": "[encoded data removed]",
      "text/plain": [
       "<matplotlib.figure.Figure at 0x13e71a150>"
      ]
     },
     "metadata": {},
     "output_type": "display_data"
    }
   ],
   "source": [
    "plt.figure(figsize=(16, 3))\n",
    "means = [gs.grid_scores_[i].mean_validation_score for i in range(len(gs.grid_scores_))]\n",
    "plt.scatter(range(len(gs.grid_scores_)), means)\n",
    "plt.xticks(range(1, len(gs.grid_scores_), 2), rotation='vertical');\n",
    "plt.ylim([min(means)-0.05, max(means)+0.05])"
   ]
  },
  {
   "cell_type": "code",
   "execution_count": 230,
   "metadata": {
    "collapsed": false
   },
   "outputs": [
    {
     "data": {
      "image/png": "[encoded data removed]",
      "text/plain": [
       "<matplotlib.figure.Figure at 0x13adc4f50>"
      ]
     },
     "metadata": {},
     "output_type": "display_data"
    }
   ],
   "source": [
    "plt.figure(figsize=(16, 3))\n",
    "scores = gs.grid_scores_[55:127]\n",
    "\n",
    "means = [scores[i].mean_validation_score for i in range(len(scores))]\n",
    "plt.scatter(range(len(scores)), means)\n",
    "plt.xticks(range(1, len(scores)), range(56, 127), rotation='vertical');\n",
    "plt.ylim([min(means)-0.05, max(means)+0.05]);"
   ]
  },
  {
   "cell_type": "code",
   "execution_count": 227,
   "metadata": {
    "collapsed": false
   },
   "outputs": [
    {
     "name": "stdout",
     "output_type": "stream",
     "text": [
      "56 0.647423103382\n",
      "67 0.661552176266\n",
      "68 0.657622970971\n",
      "83 0.661823090874\n",
      "88 0.649905813369\n",
      "95 0.64316772229\n",
      "96 0.669604944502\n",
      "97 0.649485828336\n",
      "107 0.646497141514\n",
      "115 0.664323053135\n",
      "126 0.646497141514\n"
     ]
    }
   ],
   "source": [
    "for p in [56, 67, 68, 83, 88, 95, 96, 97, 107, 115, 126]:\n",
    "    print p, trees__evaluate_params(X_train_expand_real_fol,\n",
    "                             X_test_expand_real_fol,\n",
    "                             **gs.grid_scores_[p].parameters)"
   ]
  },
  {
   "cell_type": "code",
   "execution_count": 228,
   "metadata": {
    "collapsed": false
   },
   "outputs": [
    {
     "data": {
      "text/plain": [
       "(0.80129639374976203, {'max_depth': 6, 'min_samples_leaf': 19})"
      ]
     },
     "execution_count": 228,
     "metadata": {},
     "output_type": "execute_result"
    }
   ],
   "source": [
    "gs.best_score_, gs.best_params_"
   ]
  },
  {
   "cell_type": "code",
   "execution_count": 231,
   "metadata": {
    "collapsed": false
   },
   "outputs": [
    {
     "data": {
      "text/plain": [
       "0.64742310338209252"
      ]
     },
     "execution_count": 231,
     "metadata": {},
     "output_type": "execute_result"
    }
   ],
   "source": [
    "trees__evaluate_params(X_train_expand_real_fol, X_test_expand_real_fol,\n",
    "                         **{'max_depth': 6, 'min_samples_leaf': 19})"
   ]
  },
  {
   "cell_type": "markdown",
   "metadata": {},
   "source": [
    "**Вывод:**\n",
    "* ** Деревья на счетчиках без фолдинга дают небольшой прирост, по сравнению с деревьями на категориальном датасете. **\n",
    "* **Наилучший AUC-ROC на контроле - 0.99858246370308135, при параметрах {'max_depth': 4, 'min_samples_leaf': 12}. Из графиков видно, что деревья сильно переобучаются на кросс-валидации. Оптимальный набор параметров - gs.grid_scores_[38], {'max_depth': 6, 'min_samples_leaf': 1}**\n",
    "* ** Качество классификации деревьев на счетчиках с фолдингом - лучше. **\n",
    "* ** Деревья на счетчиках с фолдингом, по сравнению с деревьями на счетиках без фолдинга - нет так сильно переобучаются. **"
   ]
  },
  {
   "cell_type": "markdown",
   "metadata": {},
   "source": [
    "#### 2. Настройте случайный лес, подобрав оптимальное число деревьев `n_estimators`. Какое качество на тестовой выборке он дает?"
   ]
  },
  {
   "cell_type": "code",
   "execution_count": null,
   "metadata": {
    "collapsed": true
   },
   "outputs": [],
   "source": [
    "from sklearn.ensemble import RandomForestClassifier"
   ]
  },
  {
   "cell_type": "code",
   "execution_count": 290,
   "metadata": {
    "collapsed": true
   },
   "outputs": [],
   "source": [
    "def randomforest__fit_params(X_train, y_train):    \n",
    "    cv = KFold(X_train.shape[0], shuffle=True, random_state=241, n_folds=5)\n",
    "\n",
    "    gs = GridSearchCV(RandomForestClassifier(random_state=88),\n",
    "                      param_grid={'n_estimators': [10, 30, 50, 80, 100, 200, 300, 350, 400, 500]},\n",
    "                      cv=cv,\n",
    "                      scoring='roc_auc')\n",
    "    gs.fit(X_train, y_train)\n",
    "    return gs"
   ]
  },
  {
   "cell_type": "code",
   "execution_count": 291,
   "metadata": {
    "collapsed": false
   },
   "outputs": [],
   "source": [
    "randomforest_gs = randomforest__fit_params(X_train, y_train)"
   ]
  },
  {
   "cell_type": "code",
   "execution_count": 292,
   "metadata": {
    "collapsed": false
   },
   "outputs": [
    {
     "data": {
      "text/plain": [
       "[mean: 0.71715, std: 0.01100, params: {'n_estimators': 10},\n",
       " mean: 0.72883, std: 0.01177, params: {'n_estimators': 30},\n",
       " mean: 0.73697, std: 0.01139, params: {'n_estimators': 50},\n",
       " mean: 0.73949, std: 0.01028, params: {'n_estimators': 80},\n",
       " mean: 0.74032, std: 0.01030, params: {'n_estimators': 100},\n",
       " mean: 0.74062, std: 0.01061, params: {'n_estimators': 200},\n",
       " mean: 0.74215, std: 0.01193, params: {'n_estimators': 300},\n",
       " mean: 0.74271, std: 0.01163, params: {'n_estimators': 350},\n",
       " mean: 0.74275, std: 0.01185, params: {'n_estimators': 400},\n",
       " mean: 0.74331, std: 0.01177, params: {'n_estimators': 500}]"
      ]
     },
     "execution_count": 292,
     "metadata": {},
     "output_type": "execute_result"
    }
   ],
   "source": [
    "randomforest_gs.grid_scores_"
   ]
  },
  {
   "cell_type": "code",
   "execution_count": 294,
   "metadata": {
    "collapsed": false,
    "scrolled": true
   },
   "outputs": [
    {
     "data": {
      "text/plain": [
       "(0.667152855729639, 0.79331022844162247)"
      ]
     },
     "execution_count": 294,
     "metadata": {},
     "output_type": "execute_result"
    },
    {
     "data": {
      "image/png": "[encoded data removed]",
      "text/plain": [
       "<matplotlib.figure.Figure at 0x13e7ad350>"
      ]
     },
     "metadata": {},
     "output_type": "display_data"
    }
   ],
   "source": [
    "plt.figure(figsize=(3, 3))\n",
    "scores = randomforest_gs.grid_scores_\n",
    "\n",
    "means = [scores[i].mean_validation_score for i in range(len(scores))]\n",
    "plt.scatter(range(len(scores)), means)\n",
    "plt.xticks(range(0, len(scores)), rotation='vertical');\n",
    "plt.ylim([min(means)-0.05, max(means)+0.05])"
   ]
  },
  {
   "cell_type": "code",
   "execution_count": 299,
   "metadata": {
    "collapsed": false
   },
   "outputs": [
    {
     "data": {
      "text/plain": [
       "mean: 0.73949, std: 0.01028, params: {'n_estimators': 80}"
      ]
     },
     "execution_count": 299,
     "metadata": {},
     "output_type": "execute_result"
    }
   ],
   "source": [
    "randomforest_gs.grid_scores_[3]"
   ]
  },
  {
   "cell_type": "code",
   "execution_count": 303,
   "metadata": {
    "collapsed": false
   },
   "outputs": [],
   "source": [
    "def randomforest__evaluate_params(X_train, X_test, n_estimators=100):   \n",
    "    clf = RandomForestClassifier(random_state=88, n_estimators=n_estimators)\n",
    "    clf.fit(X_train, y_train)\n",
    "    y_pred = clf.predict(X_test)\n",
    "    return metrics.roc_auc_score(y_test, y_pred)"
   ]
  },
  {
   "cell_type": "code",
   "execution_count": 346,
   "metadata": {
    "collapsed": false
   },
   "outputs": [
    {
     "data": {
      "text/plain": [
       "0.69026508118272956"
      ]
     },
     "execution_count": 346,
     "metadata": {},
     "output_type": "execute_result"
    }
   ],
   "source": [
    "randomforest__evaluate_params(X_train, X_test, n_estimators=80)"
   ]
  },
  {
   "cell_type": "markdown",
   "metadata": {},
   "source": [
    "**Вывод: Случайный лес увеличивает качество классификации, по сравнению с Решающих деревом. AUC = 0.69**"
   ]
  },
  {
   "cell_type": "markdown",
   "metadata": {},
   "source": [
    "#### 3. Возьмите выборку с парными признаками, для которой счетчики посчитаны с фолдингом. Обучите на ней случайный лес, подобрав число деревьев. Какое качество на тестовой выборке он дает? Чем вы можете объяснить изменение результата по сравнению с предыдущим пунктом?"
   ]
  },
  {
   "cell_type": "code",
   "execution_count": 324,
   "metadata": {
    "collapsed": true
   },
   "outputs": [],
   "source": [
    "def randomforest_real__fit_params(X_train, y_train):    \n",
    "    cv = KFold(X_train.shape[0], shuffle=True, random_state=241, n_folds=5)\n",
    "\n",
    "    gs = GridSearchCV(RandomForestClassifier(random_state=88),\n",
    "                      param_grid={'n_estimators': [10, 30, 50, 80, 100, 200, 300, 350, 400, 500]},\n",
    "                      cv=cv,\n",
    "                      scoring='roc_auc')\n",
    "    gs.fit(X_train, y_train)\n",
    "    return gs"
   ]
  },
  {
   "cell_type": "code",
   "execution_count": 325,
   "metadata": {
    "collapsed": false
   },
   "outputs": [],
   "source": [
    "randomforest_real_gs = randomforest__fit_params(X_train_expand_real_fol, y_train)"
   ]
  },
  {
   "cell_type": "code",
   "execution_count": 328,
   "metadata": {
    "collapsed": false
   },
   "outputs": [
    {
     "data": {
      "text/plain": [
       "[mean: 0.84105, std: 0.01142, params: {'n_estimators': 10},\n",
       " mean: 0.84869, std: 0.01080, params: {'n_estimators': 30},\n",
       " mean: 0.84830, std: 0.01047, params: {'n_estimators': 50},\n",
       " mean: 0.84980, std: 0.00874, params: {'n_estimators': 80},\n",
       " mean: 0.85028, std: 0.00918, params: {'n_estimators': 100},\n",
       " mean: 0.85108, std: 0.00959, params: {'n_estimators': 200},\n",
       " mean: 0.85177, std: 0.00976, params: {'n_estimators': 300},\n",
       " mean: 0.85209, std: 0.00953, params: {'n_estimators': 350},\n",
       " mean: 0.85189, std: 0.00977, params: {'n_estimators': 400},\n",
       " mean: 0.85187, std: 0.00962, params: {'n_estimators': 500}]"
      ]
     },
     "execution_count": 328,
     "metadata": {},
     "output_type": "execute_result"
    }
   ],
   "source": [
    "randomforest_real_gs.grid_scores_"
   ]
  },
  {
   "cell_type": "code",
   "execution_count": 331,
   "metadata": {
    "collapsed": false
   },
   "outputs": [
    {
     "data": {
      "image/png": "[encoded data removed]",
      "text/plain": [
       "<matplotlib.figure.Figure at 0x13cb9d690>"
      ]
     },
     "metadata": {},
     "output_type": "display_data"
    }
   ],
   "source": [
    "plt.figure(figsize=(16, 3))\n",
    "scores = randomforest_real_gs.grid_scores_[:45]\n",
    "\n",
    "means = [scores[i].mean_validation_score for i in range(len(scores))]\n",
    "plt.scatter(range(len(scores)), means)\n",
    "plt.xticks(range(0, len(scores)), rotation='vertical');\n",
    "plt.ylim([min(means)-0.05, max(means)+0.05]);"
   ]
  },
  {
   "cell_type": "code",
   "execution_count": 75,
   "metadata": {
    "collapsed": false
   },
   "outputs": [
    {
     "data": {
      "text/plain": [
       "GridSearchCV(cv=sklearn.cross_validation.KFold(n=22938, n_folds=3, shuffle=True, random_state=241),\n",
       "       error_score='raise',\n",
       "       estimator=RandomForestClassifier(bootstrap=True, class_weight=None, criterion='gini',\n",
       "            max_depth=None, max_features='auto', max_leaf_nodes=None,\n",
       "            min_samples_leaf=1, min_samples_split=2,\n",
       "            min_weight_fraction_leaf=0.0, n_estimators=10, n_jobs=1,\n",
       "            oob_score=False, random_state=241, verbose=0, warm_start=False),\n",
       "       fit_params={}, iid=True, loss_func=None, n_jobs=1,\n",
       "       param_grid={'n_estimators': [1, 8, 15, 22, 29, 36, 43]},\n",
       "       pre_dispatch='2*n_jobs', refit=True, score_func=None,\n",
       "       scoring='roc_auc', verbose=0)"
      ]
     },
     "execution_count": 75,
     "metadata": {},
     "output_type": "execute_result"
    }
   ],
   "source": [
    "randomforest_fit_params(X_train_expand, y_train);"
   ]
  },
  {
   "cell_type": "code",
   "execution_count": 348,
   "metadata": {
    "collapsed": false
   },
   "outputs": [
    {
     "data": {
      "text/plain": [
       "0.66078202399359942"
      ]
     },
     "execution_count": 348,
     "metadata": {},
     "output_type": "execute_result"
    }
   ],
   "source": [
    "randomforest__evaluate_params(X_train_expand_real_fol, X_test_expand_real_fol, **randomforest_real_gs.grid_scores_[1].parameters)"
   ]
  },
  {
   "cell_type": "markdown",
   "metadata": {},
   "source": [
    "**Вывод**:\n",
    "* AUC на вещественных признаках с фолдингом = 0.66078202399359942. \n",
    "* *Чем вы можете объяснить изменение результата по сравнению с предыдущим пунктом?*\n",
    "    * Решающий Лес в sklearn не умеет строить предикаты на категориальных признаках, он воспринимает их как вещественные. Следовательно, целесообразно преобразовать категориальные признаки в вещественные и на них применять алгоритм.\n",
    "    * С другой стороны, по результатам экспериментов применения Решающего Леса на категор.(0.69auc) и вещ.(0.66auc) признаковых простраствах можно сделать следующих вывод: категориальные признаки данного датасета являются порядковыми, чем больше значение, тем важнее признак. А из-за того, что качество на категор. признаках больше чем на вещественных(счетчики), можно сделать следующих вывод: свойство порядка признаков важней свойства частотности."
   ]
  },
  {
   "cell_type": "code",
   "execution_count": null,
   "metadata": {
    "collapsed": true
   },
   "outputs": [],
   "source": []
  }
 ],
 "metadata": {
  "kernelspec": {
   "display_name": "Python 2",
   "language": "python",
   "name": "python2"
  },
  "language_info": {
   "codemirror_mode": {
    "name": "ipython",
    "version": 2
   },
   "file_extension": ".py",
   "mimetype": "text/x-python",
   "name": "python",
   "nbconvert_exporter": "python",
   "pygments_lexer": "ipython2",
   "version": "2.7.10"
  }
 },
 "nbformat": 4,
 "nbformat_minor": 0
}
